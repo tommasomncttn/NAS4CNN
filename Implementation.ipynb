{
  "nbformat": 4,
  "nbformat_minor": 0,
  "metadata": {
    "colab": {
      "provenance": [],
      "gpuType": "T4",
      "authorship_tag": "ABX9TyOc7MB7l3CDTfAEKMuPeFKD",
      "include_colab_link": true
    },
    "kernelspec": {
      "name": "python3",
      "display_name": "Python 3"
    },
    "language_info": {
      "name": "python"
    },
    "accelerator": "GPU",
    "gpuClass": "standard"
  },
  "cells": [
    {
      "cell_type": "markdown",
      "metadata": {
        "id": "view-in-github",
        "colab_type": "text"
      },
      "source": [
        "<a href=\"https://colab.research.google.com/github/tommasomncttn/NAS4CNN/blob/main/Implementation.ipynb\" target=\"_parent\"><img src=\"https://colab.research.google.com/assets/colab-badge.svg\" alt=\"Open In Colab\"/></a>"
      ]
    },
    {
      "cell_type": "markdown",
      "source": [
        "# Implementing single CNN"
      ],
      "metadata": {
        "id": "4a7eu6HavExp"
      }
    },
    {
      "cell_type": "markdown",
      "source": [
        "### Importing "
      ],
      "metadata": {
        "id": "_bmtpvl1n5sN"
      }
    },
    {
      "cell_type": "code",
      "source": [
        "!pip install torchview"
      ],
      "metadata": {
        "id": "if-P7TTHY5B5",
        "outputId": "405a0c29-88b4-47fb-d38e-7055d30a4dd6",
        "colab": {
          "base_uri": "https://localhost:8080/"
        }
      },
      "execution_count": 43,
      "outputs": [
        {
          "output_type": "stream",
          "name": "stdout",
          "text": [
            "Looking in indexes: https://pypi.org/simple, https://us-python.pkg.dev/colab-wheels/public/simple/\n",
            "Collecting torchview\n",
            "  Downloading torchview-0.2.6-py3-none-any.whl (25 kB)\n",
            "Installing collected packages: torchview\n",
            "Successfully installed torchview-0.2.6\n"
          ]
        }
      ]
    },
    {
      "cell_type": "code",
      "source": [
        "import os\n",
        "import matplotlib.pyplot as plt\n",
        "import numpy as np\n",
        "import torch\n",
        "import torch.nn as nn\n",
        "import torch.nn.functional as F\n",
        "from sklearn import datasets\n",
        "from sklearn.datasets import load_digits\n",
        "from torch.utils.data import DataLoader, Dataset\n",
        "from tqdm.auto import tqdm\n",
        "import random\n",
        "from torchview import draw_graph"
      ],
      "metadata": {
        "id": "yNWkDl4JnPWo"
      },
      "execution_count": 1,
      "outputs": []
    },
    {
      "cell_type": "markdown",
      "source": [
        "### Dataset "
      ],
      "metadata": {
        "id": "T6i4WgSHoBE_"
      }
    },
    {
      "cell_type": "code",
      "source": [
        "class TensorizedDigits(Dataset):\n",
        "    \"\"\"Scikit-Learn Digits dataset.\"\"\"\n",
        "\n",
        "    def __init__(self, mode = \"train\", transforms = None, tensorized = True):\n",
        "        digits = load_digits()\n",
        "        if mode == \"train\":\n",
        "            self.data = digits.data[:1000].astype(np.float32)\n",
        "            self.targets = digits.target[:1000]\n",
        "        elif mode == \"val\":\n",
        "            self.data = digits.data[1000:1350].astype(np.float32)\n",
        "            self.targets = digits.target[1000:1350]\n",
        "        else:\n",
        "            self.data = digits.data[1350:].astype(np.float32)\n",
        "            self.targets = digits.target[1350:]\n",
        "\n",
        "        self.transforms = transforms\n",
        "\n",
        "        if tensorized:\n",
        "          self.transforms = TensorizedDigits.tensorization_transform\n",
        "\n",
        "    def __len__(self):\n",
        "        return len(self.data)\n",
        "\n",
        "    def __getitem__(self, idx):\n",
        "        sample_x = self.data[idx]\n",
        "        sample_y = self.targets[idx]\n",
        "        \n",
        "        if True:\n",
        "          sample_x, sample_y = self.transforms(sample_x, sample_y)\n",
        "        \n",
        "\n",
        "        return (sample_x, sample_y)\n",
        "\n",
        "    @staticmethod\n",
        "    def tensorization_transform(x, y):\n",
        "        \n",
        "        # reshape to get a valid input for a CNN\n",
        "        sample_x = x.reshape(1, 8, 8)\n",
        "        sample_y = y\n",
        "\n",
        "        # transform it to torch tensor to move them to cuda\n",
        "        if torch.cuda.is_available():\n",
        "\n",
        "          sample_x = torch.from_numpy(sample_x).to(\"cuda\")\n",
        "          sample_y = np.array(y)\n",
        "          sample_y = torch.from_numpy(sample_y).to(\"cuda\")\n",
        "\n",
        "\n",
        "        return sample_x, sample_y\n",
        "    \n",
        "    def visualize_datapoint(self, idx):\n",
        "\n",
        "      x,y = self.__getitem__( idx)\n",
        "      plt.imshow(x[0].cpu(), cmap=\"gray\")\n",
        "      plt.axis(\"off\")\n",
        "      plt.show()\n"
      ],
      "metadata": {
        "id": "tTaJR9yuoAnc"
      },
      "execution_count": 2,
      "outputs": []
    },
    {
      "cell_type": "markdown",
      "source": [
        "### Module"
      ],
      "metadata": {
        "id": "gvKE7U34B_pL"
      }
    },
    {
      "cell_type": "code",
      "source": [
        "class SingleConfigCNN(nn.Module):\n",
        "    '''Conv2d → f(.) → Pooling → Flatten → Linear 1 → f(.) → Linear 2 → Softmax\n",
        "    '''\n",
        "    def __init__(self, cnn_i_N = 1, cnn_o_N = 8, cnn_k_size = 3, stride = 1, padding = 1, pool_k_size = 2, fnn_o_N = 10):\n",
        "        super(SingleConfigCNN, self).__init__()\n",
        "\n",
        "        self.cnn_i_N = cnn_i_N\n",
        "        self.cnn_o_N = cnn_o_N\n",
        "        self.cnn_k_size = cnn_k_size\n",
        "        self.stride = stride\n",
        "        self.padding = padding\n",
        "        self.pool_k_size = pool_k_size\n",
        "        self.fnn_o_N = fnn_o_N\n",
        "        \n",
        "        self.cnn =  nn.Conv2d(in_channels = cnn_i_N, out_channels = cnn_o_N, kernel_size = cnn_k_size, stride = stride, padding = padding)\n",
        "        self.activation1 = nn.ReLU() # or sigmoid, tanh, softplus, elu\n",
        "        self.pool = nn.MaxPool2d(kernel_size = pool_k_size) # or avg pool\n",
        "        self.flatten = nn.Flatten()\n",
        "\n",
        "        self.linear1 = nn.Linear(in_features = self.compute_input_2_linear(), out_features = fnn_o_N)\n",
        "        self.activation2 = nn.ReLU() # or sigmoid, tanh, softplus, elu\n",
        "        self.linear2 = nn.Linear(in_features = fnn_o_N, out_features = 10)\n",
        "        self.softmax = nn.LogSoftmax(dim=1)\n",
        "\n",
        "        self.nll = nn.NLLLoss(reduction=\"none\") \n",
        "    \n",
        "    def compute_input_2_linear(self):\n",
        "\n",
        "        # computing after convolution => [(W-K+2P)/S]+1\n",
        "        after_cnn_channels = self.cnn_o_N\n",
        "        after_cnn_height = after_cnn_width = ((8 - self.cnn_k_size + 2 * self.padding) / self.stride) + 1\n",
        "\n",
        "        # computing after pooling => fixed values stride=kernel_dimension, padding=0, dilation=1 => formula at end of https://pytorch.org/docs/stable/generated/torch.nn.MaxPool2d.html\n",
        "        after_pool_height = after_pool_width = ((after_cnn_height - self.pool_k_size) / self.pool_k_size ) + 1\n",
        "\n",
        "        # computing after flattening \n",
        "\n",
        "        return int(after_pool_height * after_pool_width * after_cnn_channels)\n",
        "\n",
        "    def classify(self, log_prob):\n",
        "        \n",
        "        y_pred = torch.argmax(log_prob, dim = 1).long()        \n",
        "        return y_pred\n",
        "\n",
        "    def forward(self, x):\n",
        "        \n",
        "        x = self.cnn(x)\n",
        "        x = self.activation1(x)\n",
        "        x = self.pool(x)\n",
        "        x = self.flatten(x)\n",
        "        x = self.linear1(x)\n",
        "        x = self.activation2(x)\n",
        "        x = self.linear2(x)\n",
        "        log_prob = self.softmax(x)\n",
        "\n",
        "        return log_prob\n",
        "\n",
        "\n",
        "    def compute_loss(self, log_prob, y, reduction=\"avg\"):\n",
        "\n",
        "        loss = self.nll(log_prob, y)\n",
        "\n",
        "        if reduction == \"sum\":\n",
        "            return loss.sum()\n",
        "\n",
        "        else:\n",
        "            return loss.mean()\n",
        "\n",
        "    def count_misclassified(self, predictions, targets):\n",
        "\n",
        "        e = 1.0 * (predictions == targets)\n",
        "        misclassified = (1.0 - e).sum().item()\n",
        "\n",
        "        return misclassified"
      ],
      "metadata": {
        "id": "Vp1stkTGB_Pu"
      },
      "execution_count": 3,
      "outputs": []
    },
    {
      "cell_type": "markdown",
      "source": [
        "### Training and Validation Loop"
      ],
      "metadata": {
        "id": "Orq0YdLVVBmT"
      }
    },
    {
      "cell_type": "code",
      "source": [
        "def configure_optimizer(model, lr = 1e-3, wd = 1e-5):\n",
        "  return torch.optim.Adamax(model.parameters(), lr=lr, weight_decay=wd)"
      ],
      "metadata": {
        "id": "8agD6jOXVJfO"
      },
      "execution_count": 4,
      "outputs": []
    },
    {
      "cell_type": "code",
      "source": [
        "def train_one_epoch(dataloader, model, optimizer, epoch_n = None, is_silent = False):\n",
        "\n",
        "    model.train()\n",
        "\n",
        "    size = len(dataloader.dataset)\n",
        "    total_loss = 0\n",
        "    total_miss = 0\n",
        "    train_step = 0\n",
        "\n",
        "    for (X, y) in dataloader:\n",
        "\n",
        "        train_step += 1\n",
        "\n",
        "        # logits\n",
        "        log_prob = model(X)\n",
        "\n",
        "        # classification\n",
        "        predictions = model.classify(log_prob)\n",
        "\n",
        "        # misclassified \n",
        "        missclassified = model.count_misclassified(predictions, y)\n",
        "        total_miss += missclassified\n",
        "\n",
        "        # loss\n",
        "        loss = model.compute_loss(log_prob, y, reduction = \"sum\")\n",
        "        total_loss += loss\n",
        "\n",
        "        # Backpropagation\n",
        "        loss.backward()\n",
        "        optimizer.step()\n",
        "        optimizer.zero_grad()\n",
        "\n",
        "    \n",
        "    # compute epoch statistics\n",
        "    avg_loss = total_loss / size\n",
        "    avg_ce = total_miss / size\n",
        "    \n",
        "    if not(is_silent):\n",
        "      print(\"\")\n",
        "      print(f\" TRAINING => Results of epoch number {epoch_n}:\")\n",
        "      print('')\n",
        "      print('    Average training loss: {0:.5f}'.format(avg_loss))\n",
        "      print('    Average training classification error: {0:.5f}'.format(avg_ce))\n",
        "\n",
        "    return avg_loss.item(), avg_ce\n"
      ],
      "metadata": {
        "id": "dvikPF_VWuBx"
      },
      "execution_count": 5,
      "outputs": []
    },
    {
      "cell_type": "code",
      "source": [
        "def evaluation_one_epoch(dataloader, model, optimizer, mode = \"validation\", epoch_n = None, is_silent = False):\n",
        "\n",
        "    model.eval()\n",
        "\n",
        "    size = len(dataloader.dataset)\n",
        "    total_loss = 0\n",
        "    total_miss = 0\n",
        "    val_step = 0\n",
        "\n",
        "\n",
        "    with torch.no_grad():\n",
        "\n",
        "      for (X, y) in dataloader:\n",
        "\n",
        "          val_step += 1\n",
        "\n",
        "          # logits\n",
        "          log_prob = model(X)\n",
        "\n",
        "          # classification\n",
        "          predictions = model.classify(log_prob)\n",
        "\n",
        "          # misclassified \n",
        "          missclassified = model.count_misclassified(predictions, y)\n",
        "          total_miss += missclassified\n",
        "\n",
        "          # loss\n",
        "          loss = model.compute_loss(log_prob, y, reduction = \"sum\")\n",
        "          total_loss += loss\n",
        "\n",
        "\n",
        "\n",
        "    # compute epoch statistics\n",
        "    avg_loss = total_loss / size\n",
        "    avg_ce = total_miss / size\n",
        "\n",
        "\n",
        "    if not(is_silent):\n",
        "      if mode == \"validation\":\n",
        "\n",
        "        \n",
        "        print('')\n",
        "        print('    Average validation loss: {:.5f}'.format(avg_loss))\n",
        "        print('    Average validation classification error: {:.5f}'.format(avg_ce))\n",
        "\n",
        "\n",
        "      else:\n",
        "\n",
        "    \n",
        "        print(\"\")\n",
        "        print(f\"TESTING => Results of over test set\")\n",
        "        print('')\n",
        "        print('    Average test loss: {:.5f}'.format(avg_loss))\n",
        "        print('    Average test classification error: {0:.5f}'.format(avg_ce))\n",
        "\n",
        "\n",
        "    return avg_loss.item(), avg_ce\n"
      ],
      "metadata": {
        "id": "r46tJKNsg8Po"
      },
      "execution_count": 6,
      "outputs": []
    },
    {
      "cell_type": "code",
      "source": [
        "def fit_epochs(training_loader, val_loader, test_loader, model, optimizer, n_epochs, test_model = True, is_silent = False):\n",
        "\n",
        "  train_loss_list = []\n",
        "  train_ce_list = []\n",
        "  val_loss_list = []\n",
        "  val_ce_list = []\n",
        "  test_loss_result = []\n",
        "  test_ce_result = []\n",
        "\n",
        "  for i in range(0,n_epochs):\n",
        "\n",
        "    train_loss, train_ce =  train_one_epoch(dataloader = training_loader, model = model, optimizer = optimizer, epoch_n = i, is_silent = is_silent)\n",
        "    train_loss_list.append(train_loss)\n",
        "    train_ce_list.append(train_ce)\n",
        "\n",
        "    val_loss, val_ce = evaluation_one_epoch(dataloader = val_loader, model = model, optimizer = optimizer, epoch_n = i, is_silent = is_silent)\n",
        "    val_loss_list.append(val_loss)\n",
        "    val_ce_list.append(val_ce)\n",
        "\n",
        "  if test_model:\n",
        "    test_loss, test_ce = evaluation_one_epoch(dataloader = test_loader, model = model, optimizer = optimizer, mode = \"test\", epoch_n = i, is_silent = is_silent)\n",
        "    test_loss_result.append(test_loss)\n",
        "    test_ce_result.append(test_ce)\n",
        "\n",
        "\n",
        "    result_dic = {\"train_loss_list\": train_loss_list, \"train_ce_list\": train_ce_list,\"val_loss_list\":val_loss_list, \"val_ce_list\":val_ce_list, \"test_loss_result\":test_loss_result, \"test_ce_result\":test_ce_result, \"number_of_epochs\" : n_epochs}\n",
        "  else: \n",
        "    result_dic = {\"train_loss_list\": train_loss_list, \"train_ce_list\": train_ce_list,\"val_loss_list\":val_loss_list, \"val_ce_list\":val_ce_list, \"number_of_epochs\" : n_epochs}\n",
        "  return result_dic\n"
      ],
      "metadata": {
        "id": "cFWXfl4RlFgJ"
      },
      "execution_count": 7,
      "outputs": []
    },
    {
      "cell_type": "code",
      "source": [
        "def plot_results(results):\n",
        "    # Extracting the data from the dictionary\n",
        "    train_loss_list = results[\"train_loss_list\"]\n",
        "    train_ce_list = results[\"train_ce_list\"]\n",
        "    val_loss_list = results[\"val_loss_list\"]\n",
        "    val_ce_list = results[\"val_ce_list\"]\n",
        "    test_loss_result = results[\"test_loss_result\"]\n",
        "    test_ce_result = results[\"test_ce_result\"]\n",
        "    n_epochs = results[\"number_of_epochs\"]\n",
        "\n",
        "    # Plotting losses\n",
        "    plt.figure(figsize=(12, 6))\n",
        "    plt.subplot(1, 2, 1)\n",
        "    plt.plot(range(1, n_epochs + 1), train_loss_list, label=\"Train Loss\")\n",
        "    plt.plot(range(1, n_epochs + 1), val_loss_list, label=\"Validation Loss\")\n",
        "    plt.plot(range(1, n_epochs + 1), [test_loss_result] * n_epochs, label=\"Test Loss\", linestyle=\"--\")\n",
        "    plt.xlabel(\"Epochs\")\n",
        "    plt.ylabel(\"Loss\")\n",
        "    plt.title(\"Training and Evaluation Losses\")\n",
        "    plt.legend()\n",
        "\n",
        "    # Plotting classification errors\n",
        "    plt.subplot(1, 2, 2)\n",
        "    plt.plot(range(1, n_epochs + 1), train_ce_list, label=\"Train Classification Error\")\n",
        "    plt.plot(range(1, n_epochs + 1), val_ce_list, label=\"Validation Classification Error\")\n",
        "    plt.plot(range(1, n_epochs + 1), [test_ce_result] * n_epochs, label=\"Test Classification Error\", linestyle=\"--\")\n",
        "    plt.xlabel(\"Epochs\")\n",
        "    plt.ylabel(\"Classification Error\")\n",
        "    plt.title(\"Training and Evaluation Classification Errors\")\n",
        "    plt.legend()\n",
        "\n",
        "    # Adjust layout and display the plots\n",
        "    plt.tight_layout()\n",
        "    plt.show()\n"
      ],
      "metadata": {
        "id": "HFrw8V9Ip_aq"
      },
      "execution_count": 8,
      "outputs": []
    },
    {
      "cell_type": "markdown",
      "source": [
        "### Inference "
      ],
      "metadata": {
        "id": "p6Mp6NDjB6f8"
      }
    },
    {
      "cell_type": "code",
      "source": [
        "# Initialize training, validation and test sets.\n",
        "train_data = TensorizedDigits(mode=\"train\")\n",
        "val_data = TensorizedDigits(mode=\"val\")\n",
        "test_data = TensorizedDigits(mode=\"test\")\n",
        "\n",
        "# Initialize data loaders.\n",
        "training_loader = DataLoader(train_data, batch_size=64, shuffle=True)\n",
        "val_loader = DataLoader(val_data, batch_size=64, shuffle=False)\n",
        "test_loader = DataLoader(test_data, batch_size=64, shuffle=False)"
      ],
      "metadata": {
        "id": "XGJo9-A8BiPs"
      },
      "execution_count": 9,
      "outputs": []
    },
    {
      "cell_type": "code",
      "source": [
        "cnn = SingleConfigCNN() #.to(\"cuda\")"
      ],
      "metadata": {
        "id": "AJN412WmNC8L"
      },
      "execution_count": 10,
      "outputs": []
    },
    {
      "cell_type": "code",
      "source": [
        "opt = configure_optimizer(cnn)\n",
        "results = fit_epochs(training_loader, val_loader, test_loader, model = cnn, optimizer = opt, n_epochs = 20)"
      ],
      "metadata": {
        "colab": {
          "base_uri": "https://localhost:8080/"
        },
        "id": "EN1l30jVdatT",
        "outputId": "7c77d686-805f-45e1-d010-7c361a596786"
      },
      "execution_count": 11,
      "outputs": [
        {
          "output_type": "stream",
          "name": "stdout",
          "text": [
            "\n",
            " TRAINING => Results of epoch number 0:\n",
            "\n",
            "    Average training loss: 2.31737\n",
            "    Average training classification error: 0.85200\n",
            "\n",
            "    Average validation loss: 2.16511\n",
            "    Average validation classification error: 0.81429\n",
            "\n",
            " TRAINING => Results of epoch number 1:\n",
            "\n",
            "    Average training loss: 2.07257\n",
            "    Average training classification error: 0.79300\n",
            "\n",
            "    Average validation loss: 2.02789\n",
            "    Average validation classification error: 0.81143\n",
            "\n",
            " TRAINING => Results of epoch number 2:\n",
            "\n",
            "    Average training loss: 1.95449\n",
            "    Average training classification error: 0.69000\n",
            "\n",
            "    Average validation loss: 1.93269\n",
            "    Average validation classification error: 0.72571\n",
            "\n",
            " TRAINING => Results of epoch number 3:\n",
            "\n",
            "    Average training loss: 1.86408\n",
            "    Average training classification error: 0.64000\n",
            "\n",
            "    Average validation loss: 1.84902\n",
            "    Average validation classification error: 0.70000\n",
            "\n",
            " TRAINING => Results of epoch number 4:\n",
            "\n",
            "    Average training loss: 1.77317\n",
            "    Average training classification error: 0.60800\n",
            "\n",
            "    Average validation loss: 1.75530\n",
            "    Average validation classification error: 0.63429\n",
            "\n",
            " TRAINING => Results of epoch number 5:\n",
            "\n",
            "    Average training loss: 1.67962\n",
            "    Average training classification error: 0.55700\n",
            "\n",
            "    Average validation loss: 1.66098\n",
            "    Average validation classification error: 0.56571\n",
            "\n",
            " TRAINING => Results of epoch number 6:\n",
            "\n",
            "    Average training loss: 1.58035\n",
            "    Average training classification error: 0.51800\n",
            "\n",
            "    Average validation loss: 1.55736\n",
            "    Average validation classification error: 0.52571\n",
            "\n",
            " TRAINING => Results of epoch number 7:\n",
            "\n",
            "    Average training loss: 1.48189\n",
            "    Average training classification error: 0.47600\n",
            "\n",
            "    Average validation loss: 1.47112\n",
            "    Average validation classification error: 0.48000\n",
            "\n",
            " TRAINING => Results of epoch number 8:\n",
            "\n",
            "    Average training loss: 1.38192\n",
            "    Average training classification error: 0.42300\n",
            "\n",
            "    Average validation loss: 1.36578\n",
            "    Average validation classification error: 0.43429\n",
            "\n",
            " TRAINING => Results of epoch number 9:\n",
            "\n",
            "    Average training loss: 1.28631\n",
            "    Average training classification error: 0.35800\n",
            "\n",
            "    Average validation loss: 1.28106\n",
            "    Average validation classification error: 0.36571\n",
            "\n",
            " TRAINING => Results of epoch number 10:\n",
            "\n",
            "    Average training loss: 1.19354\n",
            "    Average training classification error: 0.31200\n",
            "\n",
            "    Average validation loss: 1.18730\n",
            "    Average validation classification error: 0.34286\n",
            "\n",
            " TRAINING => Results of epoch number 11:\n",
            "\n",
            "    Average training loss: 1.10839\n",
            "    Average training classification error: 0.29400\n",
            "\n",
            "    Average validation loss: 1.11653\n",
            "    Average validation classification error: 0.32857\n",
            "\n",
            " TRAINING => Results of epoch number 12:\n",
            "\n",
            "    Average training loss: 1.02947\n",
            "    Average training classification error: 0.28000\n",
            "\n",
            "    Average validation loss: 1.03056\n",
            "    Average validation classification error: 0.30000\n",
            "\n",
            " TRAINING => Results of epoch number 13:\n",
            "\n",
            "    Average training loss: 0.95433\n",
            "    Average training classification error: 0.26500\n",
            "\n",
            "    Average validation loss: 0.96063\n",
            "    Average validation classification error: 0.30857\n",
            "\n",
            " TRAINING => Results of epoch number 14:\n",
            "\n",
            "    Average training loss: 0.88749\n",
            "    Average training classification error: 0.24700\n",
            "\n",
            "    Average validation loss: 0.89318\n",
            "    Average validation classification error: 0.27714\n",
            "\n",
            " TRAINING => Results of epoch number 15:\n",
            "\n",
            "    Average training loss: 0.82692\n",
            "    Average training classification error: 0.22700\n",
            "\n",
            "    Average validation loss: 0.84650\n",
            "    Average validation classification error: 0.26000\n",
            "\n",
            " TRAINING => Results of epoch number 16:\n",
            "\n",
            "    Average training loss: 0.77146\n",
            "    Average training classification error: 0.20800\n",
            "\n",
            "    Average validation loss: 0.79159\n",
            "    Average validation classification error: 0.23714\n",
            "\n",
            " TRAINING => Results of epoch number 17:\n",
            "\n",
            "    Average training loss: 0.72369\n",
            "    Average training classification error: 0.17800\n",
            "\n",
            "    Average validation loss: 0.73420\n",
            "    Average validation classification error: 0.20857\n",
            "\n",
            " TRAINING => Results of epoch number 18:\n",
            "\n",
            "    Average training loss: 0.67270\n",
            "    Average training classification error: 0.15600\n",
            "\n",
            "    Average validation loss: 0.69432\n",
            "    Average validation classification error: 0.19429\n",
            "\n",
            " TRAINING => Results of epoch number 19:\n",
            "\n",
            "    Average training loss: 0.63190\n",
            "    Average training classification error: 0.15300\n",
            "\n",
            "    Average validation loss: 0.64506\n",
            "    Average validation classification error: 0.16286\n",
            "\n",
            "TESTING => Results of over test set\n",
            "\n",
            "    Average test loss: 0.81416\n",
            "    Average test classification error: 0.22148\n"
          ]
        }
      ]
    },
    {
      "cell_type": "code",
      "source": [
        "plot_results(results)"
      ],
      "metadata": {
        "colab": {
          "base_uri": "https://localhost:8080/",
          "height": 607
        },
        "id": "iEZnW3YPN1CC",
        "outputId": "56101d57-bdde-4b8e-a390-a57784e9aa2c"
      },
      "execution_count": 12,
      "outputs": [
        {
          "output_type": "display_data",
          "data": {
            "text/plain": [
              "<Figure size 1200x600 with 2 Axes>"
            ],
            "image/png": "[encoded data removed]"
          },
          "metadata": {}
        }
      ]
    },
    {
      "cell_type": "markdown",
      "source": [
        "# Implementing Multiple CNN"
      ],
      "metadata": {
        "id": "gLfrnsytvJxn"
      }
    },
    {
      "cell_type": "markdown",
      "source": [
        "### Multi Module"
      ],
      "metadata": {
        "id": "EGYt3QmEz292"
      }
    },
    {
      "cell_type": "code",
      "source": [
        "class MultiConfigCNN(nn.Module):\n",
        "    '''Conv2d → f(.) → Pooling → Flatten → Linear 1 → f(.) → Linear 2 → Softmax\n",
        "    '''\n",
        "    def __init__(self, config, cnn_i_N = 1, pool_k_size = 2, fnn_o_N = 10):\n",
        "        super(MultiConfigCNN, self).__init__()\n",
        "\n",
        "        self.config = config \n",
        "\n",
        "        self.cnn_i_N = cnn_i_N\n",
        "        self.cnn_o_N = self.config[\"conv_filters\"]\n",
        "        self.cnn_k_size = self.config[\"cnn_architectures\"][\"kernel_size\"]\n",
        "        self.stride = self.config[\"cnn_architectures\"][\"stride\"]\n",
        "        self.padding = self.config[\"cnn_architectures\"][\"padding\"]\n",
        "        self.pool_k_size = pool_k_size\n",
        "        self.fnn_o_N = self.config[\"linear_1_neurons\"]\n",
        "        self.pooling_type = self.config[\"pooling\"][\"pooling_type\"]\n",
        "        \n",
        "        self.cnn =  nn.Conv2d(in_channels = cnn_i_N, out_channels = self.cnn_o_N, kernel_size = self.cnn_k_size, stride = self.stride, padding = self.padding)\n",
        "        self.activation1 = self.config[\"activation\"] \n",
        "        if self.pooling_type != \"Average\":\n",
        "          self.pool = nn.MaxPool2d(kernel_size = pool_k_size) \n",
        "        else:\n",
        "          self.pool = nn.AvgPool2d(kernel_size = pool_k_size) \n",
        "        self.flatten = nn.Flatten()\n",
        "\n",
        "        self.linear1 = nn.Linear(in_features = self.compute_input_2_linear(), out_features = fnn_o_N)\n",
        "        self.activation2 = self.config[\"activation\"] \n",
        "        self.linear2 = nn.Linear(in_features = fnn_o_N, out_features = 10)\n",
        "        self.softmax = nn.LogSoftmax(dim=1)\n",
        "\n",
        "        self.nll = nn.NLLLoss(reduction=\"none\") \n",
        "    \n",
        "    def compute_input_2_linear(self):\n",
        "\n",
        "        # computing after convolution => [(W-K+2P)/S]+1\n",
        "        after_cnn_channels = self.cnn_o_N\n",
        "        after_cnn_height = after_cnn_width = ((8 - self.cnn_k_size + 2 * self.padding) / self.stride) + 1\n",
        "        \n",
        "        # computing after pooling => fixed values stride=kernel_dimension, padding=0, dilation=1 => formula at end of https://pytorch.org/docs/stable/generated/torch.nn.MaxPool2d.html\n",
        "        after_pool_height = after_pool_width = ((after_cnn_height - self.pool_k_size) / self.pool_k_size ) + 1\n",
        "\n",
        "        # computing after flattening \n",
        "\n",
        "        return int(after_pool_height * after_pool_width * after_cnn_channels)\n",
        "\n",
        "    def classify(self, log_prob):\n",
        "        \n",
        "        y_pred = torch.argmax(log_prob, dim = 1).long()        \n",
        "        return y_pred\n",
        "\n",
        "    def forward(self, x):\n",
        "        \n",
        "        x = self.cnn(x)\n",
        "        x = self.activation1(x)\n",
        "        x = self.pool(x)\n",
        "        x = self.flatten(x)\n",
        "        x = self.linear1(x)\n",
        "        x = self.activation2(x)\n",
        "        x = self.linear2(x)\n",
        "        log_prob = self.softmax(x)\n",
        "\n",
        "        return log_prob\n",
        "\n",
        "\n",
        "    def compute_loss(self, log_prob, y, reduction=\"avg\"):\n",
        "\n",
        "        loss = self.nll(log_prob, y)\n",
        "\n",
        "        if reduction == \"sum\":\n",
        "            return loss.sum()\n",
        "\n",
        "        else:\n",
        "            return loss.mean()\n",
        "\n",
        "    def count_misclassified(self, predictions, targets):\n",
        "\n",
        "        e = 1.0 * (predictions == targets)\n",
        "        misclassified = (1.0 - e).sum().item()\n",
        "        \n",
        "        return misclassified\n",
        "\n",
        "    @staticmethod\n",
        "    def possible_config():\n",
        "      possible_config = {\n",
        "    \"conv_filters\": [8, 16, 32],\n",
        "    \"cnn_architectures\": [\n",
        "        {\"kernel_size\": 3, \"stride\" : 1, \"padding\" : 1},\n",
        "     {\"kernel_size\": 5, \"stride\" : 1, \"padding\" : 2}\n",
        "     ],\n",
        "    \"activation\": [nn.ReLU(), nn.Sigmoid(), nn.Tanh(), nn.Softplus(), nn.ELU],\n",
        "    \"pooling\": [\n",
        "        {\"kernel_size\": 2, \"pooling_type\": \"Average\"},\n",
        "        {\"kernel_size\": 2, \"pooling_type\": \"Maximum\"},\n",
        "        {\"kernel_size\": \"Identity\", \"pooling_type\": \"Average\"},\n",
        "        {\"kernel_size\": \"Identity\", \"pooling_type\": \"Maximum\"}\n",
        "    ],\n",
        "    \"linear_1_neurons\": [10, 20, 30, 40, 50, 60, 70, 80, 90, 100]}\n",
        "      return possible_config\n"
      ],
      "metadata": {
        "id": "dv_BLUBbzjlq"
      },
      "execution_count": 13,
      "outputs": []
    },
    {
      "cell_type": "markdown",
      "source": [
        "### Inference"
      ],
      "metadata": {
        "id": "wYjaf3Mm52qR"
      }
    },
    {
      "cell_type": "code",
      "source": [
        "picked_config = {\n",
        "    \"conv_filters\": 32,\n",
        "    \"cnn_architectures\": {\"kernel_size\": 5, \"stride\" : 1, \"padding\" : 2},\n",
        "    \"activation\": nn.ReLU(),\n",
        "    \"pooling\": {\"kernel_size\": 2, \"pooling_type\": \"Average\"},\n",
        "    \"linear_1_neurons\": 100\n",
        "}"
      ],
      "metadata": {
        "id": "YtF9KOF1yO-o"
      },
      "execution_count": 14,
      "outputs": []
    },
    {
      "cell_type": "code",
      "source": [
        "# Initialize training, validation and test sets.\n",
        "train_data = TensorizedDigits(mode=\"train\")\n",
        "val_data = TensorizedDigits(mode=\"val\")\n",
        "test_data = TensorizedDigits(mode=\"test\")\n",
        "\n",
        "# Initialize data loaders.\n",
        "training_loader = DataLoader(train_data, batch_size=64, shuffle=True)\n",
        "val_loader = DataLoader(val_data, batch_size=64, shuffle=False)\n",
        "test_loader = DataLoader(test_data, batch_size=64, shuffle=False)"
      ],
      "metadata": {
        "id": "p7wAvm9h40ht"
      },
      "execution_count": 15,
      "outputs": []
    },
    {
      "cell_type": "code",
      "source": [
        "multicnn = MultiConfigCNN(picked_config)"
      ],
      "metadata": {
        "id": "NGtVKcqM4fPM"
      },
      "execution_count": 16,
      "outputs": []
    },
    {
      "cell_type": "code",
      "source": [
        "opt = configure_optimizer(multicnn)\n",
        "results = fit_epochs(training_loader, val_loader, test_loader, model = multicnn, optimizer = opt, n_epochs = 20)"
      ],
      "metadata": {
        "id": "dtjC1Jo2452z",
        "outputId": "1f42c011-2d21-44c2-c709-d7d7aa72e9d3",
        "colab": {
          "base_uri": "https://localhost:8080/"
        }
      },
      "execution_count": 17,
      "outputs": [
        {
          "output_type": "stream",
          "name": "stdout",
          "text": [
            "\n",
            " TRAINING => Results of epoch number 0:\n",
            "\n",
            "    Average training loss: 2.15119\n",
            "    Average training classification error: 0.72100\n",
            "\n",
            "    Average validation loss: 1.97284\n",
            "    Average validation classification error: 0.64571\n",
            "\n",
            " TRAINING => Results of epoch number 1:\n",
            "\n",
            "    Average training loss: 1.88555\n",
            "    Average training classification error: 0.62300\n",
            "\n",
            "    Average validation loss: 1.72688\n",
            "    Average validation classification error: 0.54286\n",
            "\n",
            " TRAINING => Results of epoch number 2:\n",
            "\n",
            "    Average training loss: 1.64922\n",
            "    Average training classification error: 0.54500\n",
            "\n",
            "    Average validation loss: 1.53978\n",
            "    Average validation classification error: 0.56571\n",
            "\n",
            " TRAINING => Results of epoch number 3:\n",
            "\n",
            "    Average training loss: 1.43073\n",
            "    Average training classification error: 0.47000\n",
            "\n",
            "    Average validation loss: 1.32651\n",
            "    Average validation classification error: 0.48571\n",
            "\n",
            " TRAINING => Results of epoch number 4:\n",
            "\n",
            "    Average training loss: 1.23791\n",
            "    Average training classification error: 0.36700\n",
            "\n",
            "    Average validation loss: 1.14735\n",
            "    Average validation classification error: 0.37714\n",
            "\n",
            " TRAINING => Results of epoch number 5:\n",
            "\n",
            "    Average training loss: 1.06558\n",
            "    Average training classification error: 0.29900\n",
            "\n",
            "    Average validation loss: 1.00417\n",
            "    Average validation classification error: 0.29714\n",
            "\n",
            " TRAINING => Results of epoch number 6:\n",
            "\n",
            "    Average training loss: 0.92498\n",
            "    Average training classification error: 0.24500\n",
            "\n",
            "    Average validation loss: 0.86647\n",
            "    Average validation classification error: 0.24286\n",
            "\n",
            " TRAINING => Results of epoch number 7:\n",
            "\n",
            "    Average training loss: 0.79896\n",
            "    Average training classification error: 0.22100\n",
            "\n",
            "    Average validation loss: 0.76260\n",
            "    Average validation classification error: 0.21429\n",
            "\n",
            " TRAINING => Results of epoch number 8:\n",
            "\n",
            "    Average training loss: 0.69468\n",
            "    Average training classification error: 0.19500\n",
            "\n",
            "    Average validation loss: 0.67729\n",
            "    Average validation classification error: 0.18000\n",
            "\n",
            " TRAINING => Results of epoch number 9:\n",
            "\n",
            "    Average training loss: 0.61471\n",
            "    Average training classification error: 0.18100\n",
            "\n",
            "    Average validation loss: 0.60405\n",
            "    Average validation classification error: 0.16000\n",
            "\n",
            " TRAINING => Results of epoch number 10:\n",
            "\n",
            "    Average training loss: 0.54823\n",
            "    Average training classification error: 0.16200\n",
            "\n",
            "    Average validation loss: 0.56541\n",
            "    Average validation classification error: 0.15714\n",
            "\n",
            " TRAINING => Results of epoch number 11:\n",
            "\n",
            "    Average training loss: 0.50199\n",
            "    Average training classification error: 0.14900\n",
            "\n",
            "    Average validation loss: 0.51928\n",
            "    Average validation classification error: 0.15143\n",
            "\n",
            " TRAINING => Results of epoch number 12:\n",
            "\n",
            "    Average training loss: 0.45301\n",
            "    Average training classification error: 0.12800\n",
            "\n",
            "    Average validation loss: 0.45635\n",
            "    Average validation classification error: 0.14571\n",
            "\n",
            " TRAINING => Results of epoch number 13:\n",
            "\n",
            "    Average training loss: 0.41718\n",
            "    Average training classification error: 0.11600\n",
            "\n",
            "    Average validation loss: 0.41997\n",
            "    Average validation classification error: 0.10857\n",
            "\n",
            " TRAINING => Results of epoch number 14:\n",
            "\n",
            "    Average training loss: 0.38751\n",
            "    Average training classification error: 0.11200\n",
            "\n",
            "    Average validation loss: 0.40487\n",
            "    Average validation classification error: 0.10857\n",
            "\n",
            " TRAINING => Results of epoch number 15:\n",
            "\n",
            "    Average training loss: 0.35803\n",
            "    Average training classification error: 0.10700\n",
            "\n",
            "    Average validation loss: 0.36870\n",
            "    Average validation classification error: 0.10571\n",
            "\n",
            " TRAINING => Results of epoch number 16:\n",
            "\n",
            "    Average training loss: 0.32928\n",
            "    Average training classification error: 0.09100\n",
            "\n",
            "    Average validation loss: 0.35622\n",
            "    Average validation classification error: 0.10286\n",
            "\n",
            " TRAINING => Results of epoch number 17:\n",
            "\n",
            "    Average training loss: 0.31057\n",
            "    Average training classification error: 0.08600\n",
            "\n",
            "    Average validation loss: 0.32871\n",
            "    Average validation classification error: 0.10571\n",
            "\n",
            " TRAINING => Results of epoch number 18:\n",
            "\n",
            "    Average training loss: 0.29330\n",
            "    Average training classification error: 0.07800\n",
            "\n",
            "    Average validation loss: 0.33443\n",
            "    Average validation classification error: 0.10571\n",
            "\n",
            " TRAINING => Results of epoch number 19:\n",
            "\n",
            "    Average training loss: 0.27760\n",
            "    Average training classification error: 0.06800\n",
            "\n",
            "    Average validation loss: 0.30163\n",
            "    Average validation classification error: 0.09714\n",
            "\n",
            "TESTING => Results of over test set\n",
            "\n",
            "    Average test loss: 0.42746\n",
            "    Average test classification error: 0.13647\n"
          ]
        }
      ]
    },
    {
      "cell_type": "code",
      "source": [
        "plot_results(results)"
      ],
      "metadata": {
        "id": "_dh78K4m5wpP",
        "outputId": "8b075f98-9d73-4080-c2e8-d34bbab1e731",
        "colab": {
          "base_uri": "https://localhost:8080/",
          "height": 607
        }
      },
      "execution_count": 18,
      "outputs": [
        {
          "output_type": "display_data",
          "data": {
            "text/plain": [
              "<Figure size 1200x600 with 2 Axes>"
            ],
            "image/png": "[encoded data removed]"
          },
          "metadata": {}
        }
      ]
    },
    {
      "cell_type": "markdown",
      "source": [
        "# Evolutionary Algorithm "
      ],
      "metadata": {
        "id": "OlS0W6ZGBnd0"
      }
    },
    {
      "cell_type": "markdown",
      "source": [
        "### Utils for EA"
      ],
      "metadata": {
        "id": "R4iPn1pXURv_"
      }
    },
    {
      "cell_type": "code",
      "source": [
        "class Utils4EA():\n",
        "\n",
        "  def __init__(self):\n",
        "    pass\n",
        "\n",
        "  @staticmethod\n",
        "  def check_validity_genotype(input_list):\n",
        "    list_lengths = [3, 2, 5, 4, 10]\n",
        "\n",
        "    if len(input_list) != sum(list_lengths):\n",
        "        return False\n",
        "\n",
        "    index = 0\n",
        "    for length in list_lengths:\n",
        "        sublist = input_list[index:index+length]\n",
        "        sampled_values = list(range(length))\n",
        "\n",
        "        if not all(value in sampled_values for value in sublist):\n",
        "            return False\n",
        "\n",
        "        index += length\n",
        "\n",
        "    return True\n",
        "    \n",
        "  @staticmethod\n",
        "  def generate_random_genotype():\n",
        "    list_lengths = [3, 2, 5, 4, 10]  # Number of elements in each sublist\n",
        "    random_list = []\n",
        "\n",
        "    for length in list_lengths:\n",
        "        sublist = random.sample(range(length), 1)  # Randomly select an element from the sublist\n",
        "        random_list.extend(sublist)\n",
        "\n",
        "    return random_list\n",
        "\n",
        "\n",
        "  @staticmethod\n",
        "  def generate_random_phenotype():\n",
        "    genotype = {\n",
        "        \"conv_filters\": random.choice([8, 16, 32]),\n",
        "        \"cnn_architecture\": random.choice([\n",
        "            {\"kernel_size\": 3, \"stride\": 1, \"padding\": 1},\n",
        "            {\"kernel_size\": 5, \"stride\": 1, \"padding\": 2}\n",
        "        ]),\n",
        "        \"activation\": random.choice([nn.ReLU(), nn.Sigmoid(), nn.Tanh(), nn.Softplus(), nn.ELU()]),\n",
        "        \"pooling\": random.choice([\n",
        "            {\"kernel_size\": 2, \"pooling_type\": \"Average\"},\n",
        "            {\"kernel_size\": 2, \"pooling_type\": \"Maximum\"},\n",
        "            {\"kernel_size\": \"Identity\", \"pooling_type\": \"Average\"},\n",
        "            {\"kernel_size\": \"Identity\", \"pooling_type\": \"Maximum\"}\n",
        "        ]),\n",
        "        \"linear_1_neurons\": random.choice([10, 20, 30, 40, 50, 60, 70, 80, 90, 100])\n",
        "    }\n",
        "    return genotype\n",
        "\n",
        "\n",
        "  @staticmethod\n",
        "  def genotype_space():\n",
        "    genotype_space = {}\n",
        "    for key, value in Utils4EA().phenotype_space().items():\n",
        "      value_length = len(value)  # Length of the item\n",
        "      dimension_space = range(0,value_length)\n",
        "      genotype_space[key] = dimension_space\n",
        "\n",
        "    return genotype_space\n",
        "\n",
        "  @staticmethod\n",
        "  def genotype_space_bounds():\n",
        "      sampling_space = []\n",
        "      for key,value in Utils4EA.genotype_space().items():\n",
        "        sampling_space.append(value)\n",
        "      return sampling_space\n",
        "\n",
        "\n",
        "  @staticmethod\n",
        "  def phenotype_space():\n",
        "\n",
        "    possible_config = {\n",
        "  \"conv_filters\": [8, 16, 32],\n",
        "  \"cnn_architectures\": [\n",
        "      {\"kernel_size\": 3, \"stride\" : 1, \"padding\" : 1},\n",
        "    {\"kernel_size\": 5, \"stride\" : 1, \"padding\" : 2}\n",
        "    ],\n",
        "  \"activation\": [nn.ReLU(), nn.Sigmoid(), nn.Tanh(), nn.Softplus(), nn.ELU()],\n",
        "  \"pooling\": [\n",
        "      {\"kernel_size\": 2, \"pooling_type\": \"Average\"},\n",
        "      {\"kernel_size\": 2, \"pooling_type\": \"Maximum\"},\n",
        "      {\"kernel_size\": \"Identity\", \"pooling_type\": \"Average\"},\n",
        "      {\"kernel_size\": \"Identity\", \"pooling_type\": \"Maximum\"}\n",
        "  ],\n",
        "  \"linear_1_neurons\": [10, 20, 30, 40, 50, 60, 70, 80, 90, 100]}\n",
        "    return possible_config"
      ],
      "metadata": {
        "id": "SD1vAbSVBpxn"
      },
      "execution_count": 19,
      "outputs": []
    },
    {
      "cell_type": "markdown",
      "source": [
        "### EA"
      ],
      "metadata": {
        "id": "SHLVRB2sUUih"
      }
    },
    {
      "cell_type": "code",
      "source": [
        "sampling_space = []\n",
        "for key,value in Utils4EA.genotype_space().items():\n",
        "  sampling_space.append(value)\n",
        "sampling_space"
      ],
      "metadata": {
        "colab": {
          "base_uri": "https://localhost:8080/"
        },
        "id": "_LlwLyIAu3fW",
        "outputId": "afcb611b-177a-460a-fa76-8418a0fc72b4"
      },
      "execution_count": 20,
      "outputs": [
        {
          "output_type": "execute_result",
          "data": {
            "text/plain": [
              "[range(0, 3), range(0, 2), range(0, 5), range(0, 4), range(0, 10)]"
            ]
          },
          "metadata": {},
          "execution_count": 20
        }
      ]
    },
    {
      "cell_type": "code",
      "source": [
        "class EA(object):\n",
        "\n",
        "    def __init__(self, pop_size = 20, lAmbda =0.01, n_epochs = 10):\n",
        "\n",
        "        # load the constructor parameters as attributes\n",
        "        self.pop_size = pop_size\n",
        "        self.lAmbda = lAmbda\n",
        "        self.max_num_param = 7362\n",
        "        self.n_epochs = n_epochs\n",
        "\n",
        "        # define the genotypespace TODO\n",
        "        self.gene_bounds = Utils4EA.genotype_space_bounds()\n",
        "\n",
        "        # dataset and dataloader\n",
        "        self.train_data = TensorizedDigits(mode=\"train\")\n",
        "        self.val_data = TensorizedDigits(mode=\"val\")\n",
        "        self.test_data = TensorizedDigits(mode=\"test\")\n",
        "        self.training_loader = DataLoader(train_data, batch_size=64, shuffle=True)\n",
        "        self.val_loader = DataLoader(val_data, batch_size=64, shuffle=False)\n",
        "        self.test_loader = DataLoader(test_data, batch_size=64, shuffle=False)\n",
        "\n",
        "    # -------\n",
        "        # FOR NN\n",
        "    # -------\n",
        "\n",
        "    def evaluate(self, x): # x must be a list of models\n",
        "        fitness_list = []\n",
        "        for model in x:\n",
        "\n",
        "          opt = configure_optimizer(model)\n",
        "          results = fit_epochs(self.training_loader, self.val_loader, self.test_loader, model = model, optimizer = opt, n_epochs = self.n_epochs, test_model = False, is_silent = True)\n",
        "          \n",
        "          num_params = sum(p.numel() for p in model.parameters())\n",
        "          if num_params > self.max_num_param:\n",
        "            raise ValueError(\"Compute again, unbeliavable shame\")\n",
        "          fitness = results[\"val_ce_list\"][-1] + self.lAmbda*(num_params/self.max_num_param)\n",
        "          fitness_list.append(fitness)\n",
        "        \n",
        "        return fitness_list\n",
        "\n",
        "\n",
        "    def config_from_single_genotype(self, genotype):\n",
        "\n",
        "      # checking genotype validity\n",
        "      is_valid = Utils4EA.check_validity_genotype(genotype)\n",
        "      #if not(is_valid):\n",
        "      #  raise ValueError(\"Invalid Genotype\")\n",
        "      \n",
        "      # importing phenotype space\n",
        "      phenotypespace = Utils4EA.phenotype_space()\n",
        "\n",
        "      # get the phenotype\n",
        "      phenotype_config = {\n",
        "            \"conv_filters\": phenotypespace[\"conv_filters\"][genotype[0]],\n",
        "            \"cnn_architectures\": phenotypespace[\"cnn_architectures\"][genotype[1]],\n",
        "            \"activation\": phenotypespace[\"activation\"][genotype[2]],\n",
        "            \"pooling\": phenotypespace[\"pooling\"][genotype[3]],\n",
        "            \"linear_1_neurons\": phenotypespace[\"linear_1_neurons\"][genotype[4]]\n",
        "                  }\n",
        "      return phenotype_config\n",
        "\n",
        "\n",
        "    def encoding_population(self, genotypes):\n",
        "      phenotypes = []\n",
        "      for genotype in genotypes:\n",
        "        phenotype_config = self.config_from_single_genotype(genotype)\n",
        "        phenotype = MultiConfigCNN(phenotype_config)\n",
        "        phenotypes.append(phenotype)\n",
        "      return phenotypes\n",
        "        \n",
        "  \n",
        "    \n",
        "    # -------\n",
        "        # FOR EVOLUTIONARY ALGORITHM\n",
        "    # -------\n",
        "\n",
        "    def recombination(self, x_parents, f_parents):\n",
        "      '''first step in working out the candidate solutions, we pass from the \n",
        "      selected parents, to a set of INITIAL candidate solutions\n",
        "      '''\n",
        "      # initialize an empty list where to insert recombined parents\n",
        "      x_recombined_parents = [] \n",
        "\n",
        "      # loop for half of the population size\n",
        "      for i in range(self.pop_size//2):\n",
        "\n",
        "        # pick two random index\n",
        "        idx = np.random.choice(len(x_parents), size=2, replace=False)\n",
        "\n",
        "        # get the corresponding elements from the array\n",
        "        pair = (x_parents[idx[0]], x_parents[idx[1]])\n",
        "        \n",
        "        # select a random point on the lists\n",
        "        index = random.randrange(len(pair[0]))\n",
        "\n",
        "        # recombine them with one point crossover\n",
        "        if index != 0:\n",
        "          recombined_parent_1 = [*pair[0][:index], *pair[1][index:]]\n",
        "          recombined_parent_2 = [*pair[1][:index], *pair[0][index:]]\n",
        "        else: \n",
        "          recombined_parent_1 = [pair[0][0], *pair[1][1:]]\n",
        "          recombined_parent_2 = [pair[1][0], *pair[0][1:]]\n",
        "\n",
        "        # append to the new list\n",
        "        x_recombined_parents.append(recombined_parent_1)\n",
        "        x_recombined_parents.append(recombined_parent_2)\n",
        "\n",
        "      # convert list to numpy array\n",
        "      x_recombined_parents_array = np.stack(x_recombined_parents)\n",
        "\n",
        "      # return the array\n",
        "      return x_recombined_parents_array\n",
        "  \n",
        "        \n",
        "\n",
        "    def mutation(self, x_children):\n",
        "\n",
        "      # initialized mutated_children\n",
        "      mutated_children = []\n",
        "\n",
        "      # repeat for each solution in the set of candidate solutions\n",
        "      for x_current in x_children:\n",
        "\n",
        "        index = random.randrange(len(x_current))\n",
        "        sampling_range = self.gene_bounds[index]\n",
        "        random_mutation = random.choice(sampling_range)\n",
        "        x_current[index] = random_mutation\n",
        "        mutated_children.append(x_current)\n",
        "\n",
        "      # Convert the list to a NumPy array of arrays\n",
        "      mutated_children_array = np.stack(mutated_children)\n",
        "\n",
        "      # return the final candidate solutions\n",
        "      return mutated_children_array\n",
        "\n",
        "\n",
        "    def survivor_selection(self, x_parents_geno, x_children_geno, f_parents, f_children):\n",
        "      '''we pass from a set of FINAL candidate solution, to the new population\n",
        "      by selecting the best individuals\n",
        "      '''\n",
        "\n",
        "      # concatenate miu and lambda, old population and candidate solution\n",
        "      x = np.concatenate([x_parents_geno, x_children_geno])\n",
        "\n",
        "      # concate their fitness\n",
        "      f = np.concatenate([f_parents, f_children])\n",
        "\n",
        "      # sort them, the lefter the better\n",
        "      index = np.argsort(f)\n",
        "      x = x[index]\n",
        "      f = f[index]\n",
        "\n",
        "      # return only the best pop size (miu)\n",
        "      return x[:self.pop_size], f[:self.pop_size]\n",
        "\n",
        "    # -------\n",
        "        # STEP\n",
        "    # -------\n",
        "\n",
        "    def step(self, x_parents_geno, f_parents):\n",
        "\n",
        "        # recombination step \n",
        "        x_children_geno = self.recombination(x_parents_geno, f_parents)\n",
        "        \n",
        "        # mutation step\n",
        "        x_children_geno = self.mutation(x_children_geno)\n",
        "\n",
        "        # encoding step \n",
        "        x_children_pheno = self.encoding_population(x_children_geno)\n",
        "\n",
        "        # evaluation step \n",
        "        f_children = self.evaluate(x_children_pheno)\n",
        "\n",
        "        x, f = self.survivor_selection(x_parents_geno, x_children_geno, f_parents, f_children)\n",
        "\n",
        "        return x, f"
      ],
      "metadata": {
        "id": "PiK2Rl2ULo-R"
      },
      "execution_count": 21,
      "outputs": []
    },
    {
      "cell_type": "markdown",
      "source": [
        "### Searching and Visualizing"
      ],
      "metadata": {
        "id": "j9vHw-hcUGRh"
      }
    },
    {
      "cell_type": "code",
      "source": [
        "def n_generation(generation = 50, pop_size = 20, n_epochs = 10, lAmbda =0.01):\n",
        "\n",
        "  ea = EA(pop_size = 20, n_epochs = 10, lAmbda =0.01)\n",
        "\n",
        "  # init genotype population\n",
        "  x_geno = []\n",
        "  for i in range(0,20):\n",
        "    genotype = Utils4EA.generate_random_genotype()\n",
        "    x_geno.append(genotype)\n",
        "\n",
        "  # getting phenotype and objective function\n",
        "  x_pheno = ea.encoding_population(x_geno)\n",
        "  f = ea.evaluate(x_pheno)\n",
        "\n",
        "  num_generations = generation  \n",
        "  pop_size = pop_size\n",
        "\n",
        "  f_best = [np.array(f).min()]\n",
        "  f_hisotry = []\n",
        "  x_best = None\n",
        "  visual_range = tqdm(range(num_generations))\n",
        "  for i in visual_range:\n",
        "    print(\"Generation: {}, best objective: {:.5f}\".format(i, np.array(f).min()))\n",
        "    x_geno, f = ea.step(x_geno, f)\n",
        "    f_hisotry.append(np.array(f).min())\n",
        "    if np.array(f).min() < f_best[-1]:\n",
        "        f_best.append(np.array(f).min())\n",
        "        x_best = x_geno[np.array(f).argmin()]\n",
        "    else:\n",
        "        f_best.append(f_best[-1])\n",
        "    visual_range.set_postfix({f'best objective score at generation {i} ': f_best[-1]})\n",
        "  visual_range.close()\n",
        "  print(\"FINISHED!\")\n",
        "  return f_best, x_best, f_hisotry"
      ],
      "metadata": {
        "id": "lealvET5xzXS"
      },
      "execution_count": 32,
      "outputs": []
    },
    {
      "cell_type": "code",
      "source": [
        "f_best, x_best, f_history = n_generation(generation = 1)"
      ],
      "metadata": {
        "id": "fvMR8vln6dmp",
        "outputId": "c543c415-68ca-47a2-a25c-2f9e1297b472",
        "colab": {
          "base_uri": "https://localhost:8080/",
          "height": 311
        }
      },
      "execution_count": 56,
      "outputs": [
        {
          "output_type": "error",
          "ename": "KeyboardInterrupt",
          "evalue": "ignored",
          "traceback": [
            "\u001b[0;31m---------------------------------------------------------------------------\u001b[0m",
            "\u001b[0;31mKeyboardInterrupt\u001b[0m                         Traceback (most recent call last)",
            "\u001b[0;32m<ipython-input-56-a26ffdfde8a4>\u001b[0m in \u001b[0;36m<cell line: 1>\u001b[0;34m()\u001b[0m\n\u001b[0;32m----> 1\u001b[0;31m \u001b[0mf_best\u001b[0m\u001b[0;34m,\u001b[0m \u001b[0mx_best\u001b[0m\u001b[0;34m,\u001b[0m \u001b[0mf_history\u001b[0m \u001b[0;34m=\u001b[0m \u001b[0mn_generation\u001b[0m\u001b[0;34m(\u001b[0m\u001b[0mgeneration\u001b[0m \u001b[0;34m=\u001b[0m \u001b[0;36m1\u001b[0m\u001b[0;34m)\u001b[0m\u001b[0;34m\u001b[0m\u001b[0;34m\u001b[0m\u001b[0m\n\u001b[0m",
            "\u001b[0;32m<ipython-input-32-0b49f23fd44c>\u001b[0m in \u001b[0;36mn_generation\u001b[0;34m(generation, pop_size, n_epochs, lAmbda)\u001b[0m\n\u001b[1;32m     11\u001b[0m   \u001b[0;31m# getting phenotype and objective function\u001b[0m\u001b[0;34m\u001b[0m\u001b[0;34m\u001b[0m\u001b[0m\n\u001b[1;32m     12\u001b[0m   \u001b[0mx_pheno\u001b[0m \u001b[0;34m=\u001b[0m \u001b[0mea\u001b[0m\u001b[0;34m.\u001b[0m\u001b[0mencoding_population\u001b[0m\u001b[0;34m(\u001b[0m\u001b[0mx_geno\u001b[0m\u001b[0;34m)\u001b[0m\u001b[0;34m\u001b[0m\u001b[0;34m\u001b[0m\u001b[0m\n\u001b[0;32m---> 13\u001b[0;31m   \u001b[0mf\u001b[0m \u001b[0;34m=\u001b[0m \u001b[0mea\u001b[0m\u001b[0;34m.\u001b[0m\u001b[0mevaluate\u001b[0m\u001b[0;34m(\u001b[0m\u001b[0mx_pheno\u001b[0m\u001b[0;34m)\u001b[0m\u001b[0;34m\u001b[0m\u001b[0;34m\u001b[0m\u001b[0m\n\u001b[0m\u001b[1;32m     14\u001b[0m \u001b[0;34m\u001b[0m\u001b[0m\n\u001b[1;32m     15\u001b[0m   \u001b[0mnum_generations\u001b[0m \u001b[0;34m=\u001b[0m \u001b[0mgeneration\u001b[0m\u001b[0;34m\u001b[0m\u001b[0;34m\u001b[0m\u001b[0m\n",
            "\u001b[0;32m<ipython-input-21-926178b3b297>\u001b[0m in \u001b[0;36mevaluate\u001b[0;34m(self, x)\u001b[0m\n\u001b[1;32m     29\u001b[0m \u001b[0;34m\u001b[0m\u001b[0m\n\u001b[1;32m     30\u001b[0m           \u001b[0mopt\u001b[0m \u001b[0;34m=\u001b[0m \u001b[0mconfigure_optimizer\u001b[0m\u001b[0;34m(\u001b[0m\u001b[0mmodel\u001b[0m\u001b[0;34m)\u001b[0m\u001b[0;34m\u001b[0m\u001b[0;34m\u001b[0m\u001b[0m\n\u001b[0;32m---> 31\u001b[0;31m           \u001b[0mresults\u001b[0m \u001b[0;34m=\u001b[0m \u001b[0mfit_epochs\u001b[0m\u001b[0;34m(\u001b[0m\u001b[0mself\u001b[0m\u001b[0;34m.\u001b[0m\u001b[0mtraining_loader\u001b[0m\u001b[0;34m,\u001b[0m \u001b[0mself\u001b[0m\u001b[0;34m.\u001b[0m\u001b[0mval_loader\u001b[0m\u001b[0;34m,\u001b[0m \u001b[0mself\u001b[0m\u001b[0;34m.\u001b[0m\u001b[0mtest_loader\u001b[0m\u001b[0;34m,\u001b[0m \u001b[0mmodel\u001b[0m \u001b[0;34m=\u001b[0m \u001b[0mmodel\u001b[0m\u001b[0;34m,\u001b[0m \u001b[0moptimizer\u001b[0m \u001b[0;34m=\u001b[0m \u001b[0mopt\u001b[0m\u001b[0;34m,\u001b[0m \u001b[0mn_epochs\u001b[0m \u001b[0;34m=\u001b[0m \u001b[0mself\u001b[0m\u001b[0;34m.\u001b[0m\u001b[0mn_epochs\u001b[0m\u001b[0;34m,\u001b[0m \u001b[0mtest_model\u001b[0m \u001b[0;34m=\u001b[0m \u001b[0;32mFalse\u001b[0m\u001b[0;34m,\u001b[0m \u001b[0mis_silent\u001b[0m \u001b[0;34m=\u001b[0m \u001b[0;32mTrue\u001b[0m\u001b[0;34m)\u001b[0m\u001b[0;34m\u001b[0m\u001b[0;34m\u001b[0m\u001b[0m\n\u001b[0m\u001b[1;32m     32\u001b[0m \u001b[0;34m\u001b[0m\u001b[0m\n\u001b[1;32m     33\u001b[0m           \u001b[0mnum_params\u001b[0m \u001b[0;34m=\u001b[0m \u001b[0msum\u001b[0m\u001b[0;34m(\u001b[0m\u001b[0mp\u001b[0m\u001b[0;34m.\u001b[0m\u001b[0mnumel\u001b[0m\u001b[0;34m(\u001b[0m\u001b[0;34m)\u001b[0m \u001b[0;32mfor\u001b[0m \u001b[0mp\u001b[0m \u001b[0;32min\u001b[0m \u001b[0mmodel\u001b[0m\u001b[0;34m.\u001b[0m\u001b[0mparameters\u001b[0m\u001b[0;34m(\u001b[0m\u001b[0;34m)\u001b[0m\u001b[0;34m)\u001b[0m\u001b[0;34m\u001b[0m\u001b[0;34m\u001b[0m\u001b[0m\n",
            "\u001b[0;32m<ipython-input-7-a9c91521dda5>\u001b[0m in \u001b[0;36mfit_epochs\u001b[0;34m(training_loader, val_loader, test_loader, model, optimizer, n_epochs, test_model, is_silent)\u001b[0m\n\u001b[1;32m     10\u001b[0m   \u001b[0;32mfor\u001b[0m \u001b[0mi\u001b[0m \u001b[0;32min\u001b[0m \u001b[0mrange\u001b[0m\u001b[0;34m(\u001b[0m\u001b[0;36m0\u001b[0m\u001b[0;34m,\u001b[0m\u001b[0mn_epochs\u001b[0m\u001b[0;34m)\u001b[0m\u001b[0;34m:\u001b[0m\u001b[0;34m\u001b[0m\u001b[0;34m\u001b[0m\u001b[0m\n\u001b[1;32m     11\u001b[0m \u001b[0;34m\u001b[0m\u001b[0m\n\u001b[0;32m---> 12\u001b[0;31m     \u001b[0mtrain_loss\u001b[0m\u001b[0;34m,\u001b[0m \u001b[0mtrain_ce\u001b[0m \u001b[0;34m=\u001b[0m  \u001b[0mtrain_one_epoch\u001b[0m\u001b[0;34m(\u001b[0m\u001b[0mdataloader\u001b[0m \u001b[0;34m=\u001b[0m \u001b[0mtraining_loader\u001b[0m\u001b[0;34m,\u001b[0m \u001b[0mmodel\u001b[0m \u001b[0;34m=\u001b[0m \u001b[0mmodel\u001b[0m\u001b[0;34m,\u001b[0m \u001b[0moptimizer\u001b[0m \u001b[0;34m=\u001b[0m \u001b[0moptimizer\u001b[0m\u001b[0;34m,\u001b[0m \u001b[0mepoch_n\u001b[0m \u001b[0;34m=\u001b[0m \u001b[0mi\u001b[0m\u001b[0;34m,\u001b[0m \u001b[0mis_silent\u001b[0m \u001b[0;34m=\u001b[0m \u001b[0mis_silent\u001b[0m\u001b[0;34m)\u001b[0m\u001b[0;34m\u001b[0m\u001b[0;34m\u001b[0m\u001b[0m\n\u001b[0m\u001b[1;32m     13\u001b[0m     \u001b[0mtrain_loss_list\u001b[0m\u001b[0;34m.\u001b[0m\u001b[0mappend\u001b[0m\u001b[0;34m(\u001b[0m\u001b[0mtrain_loss\u001b[0m\u001b[0;34m)\u001b[0m\u001b[0;34m\u001b[0m\u001b[0;34m\u001b[0m\u001b[0m\n\u001b[1;32m     14\u001b[0m     \u001b[0mtrain_ce_list\u001b[0m\u001b[0;34m.\u001b[0m\u001b[0mappend\u001b[0m\u001b[0;34m(\u001b[0m\u001b[0mtrain_ce\u001b[0m\u001b[0;34m)\u001b[0m\u001b[0;34m\u001b[0m\u001b[0;34m\u001b[0m\u001b[0m\n",
            "\u001b[0;32m<ipython-input-5-4ec218ffaf1c>\u001b[0m in \u001b[0;36mtrain_one_epoch\u001b[0;34m(dataloader, model, optimizer, epoch_n, is_silent)\u001b[0m\n\u001b[1;32m      8\u001b[0m     \u001b[0mtrain_step\u001b[0m \u001b[0;34m=\u001b[0m \u001b[0;36m0\u001b[0m\u001b[0;34m\u001b[0m\u001b[0;34m\u001b[0m\u001b[0m\n\u001b[1;32m      9\u001b[0m \u001b[0;34m\u001b[0m\u001b[0m\n\u001b[0;32m---> 10\u001b[0;31m     \u001b[0;32mfor\u001b[0m \u001b[0;34m(\u001b[0m\u001b[0mX\u001b[0m\u001b[0;34m,\u001b[0m \u001b[0my\u001b[0m\u001b[0;34m)\u001b[0m \u001b[0;32min\u001b[0m \u001b[0mdataloader\u001b[0m\u001b[0;34m:\u001b[0m\u001b[0;34m\u001b[0m\u001b[0;34m\u001b[0m\u001b[0m\n\u001b[0m\u001b[1;32m     11\u001b[0m \u001b[0;34m\u001b[0m\u001b[0m\n\u001b[1;32m     12\u001b[0m         \u001b[0mtrain_step\u001b[0m \u001b[0;34m+=\u001b[0m \u001b[0;36m1\u001b[0m\u001b[0;34m\u001b[0m\u001b[0;34m\u001b[0m\u001b[0m\n",
            "\u001b[0;32m/usr/local/lib/python3.10/dist-packages/torch/utils/data/dataloader.py\u001b[0m in \u001b[0;36m__next__\u001b[0;34m(self)\u001b[0m\n\u001b[1;32m    631\u001b[0m                 \u001b[0;31m# TODO(https://github.com/pytorch/pytorch/issues/76750)\u001b[0m\u001b[0;34m\u001b[0m\u001b[0;34m\u001b[0m\u001b[0m\n\u001b[1;32m    632\u001b[0m                 \u001b[0mself\u001b[0m\u001b[0;34m.\u001b[0m\u001b[0m_reset\u001b[0m\u001b[0;34m(\u001b[0m\u001b[0;34m)\u001b[0m  \u001b[0;31m# type: ignore[call-arg]\u001b[0m\u001b[0;34m\u001b[0m\u001b[0;34m\u001b[0m\u001b[0m\n\u001b[0;32m--> 633\u001b[0;31m             \u001b[0mdata\u001b[0m \u001b[0;34m=\u001b[0m \u001b[0mself\u001b[0m\u001b[0;34m.\u001b[0m\u001b[0m_next_data\u001b[0m\u001b[0;34m(\u001b[0m\u001b[0;34m)\u001b[0m\u001b[0;34m\u001b[0m\u001b[0;34m\u001b[0m\u001b[0m\n\u001b[0m\u001b[1;32m    634\u001b[0m             \u001b[0mself\u001b[0m\u001b[0;34m.\u001b[0m\u001b[0m_num_yielded\u001b[0m \u001b[0;34m+=\u001b[0m \u001b[0;36m1\u001b[0m\u001b[0;34m\u001b[0m\u001b[0;34m\u001b[0m\u001b[0m\n\u001b[1;32m    635\u001b[0m             \u001b[0;32mif\u001b[0m \u001b[0mself\u001b[0m\u001b[0;34m.\u001b[0m\u001b[0m_dataset_kind\u001b[0m \u001b[0;34m==\u001b[0m \u001b[0m_DatasetKind\u001b[0m\u001b[0;34m.\u001b[0m\u001b[0mIterable\u001b[0m \u001b[0;32mand\u001b[0m\u001b[0;31m \u001b[0m\u001b[0;31m\\\u001b[0m\u001b[0;34m\u001b[0m\u001b[0;34m\u001b[0m\u001b[0m\n",
            "\u001b[0;32m/usr/local/lib/python3.10/dist-packages/torch/utils/data/dataloader.py\u001b[0m in \u001b[0;36m_next_data\u001b[0;34m(self)\u001b[0m\n\u001b[1;32m    675\u001b[0m     \u001b[0;32mdef\u001b[0m \u001b[0m_next_data\u001b[0m\u001b[0;34m(\u001b[0m\u001b[0mself\u001b[0m\u001b[0;34m)\u001b[0m\u001b[0;34m:\u001b[0m\u001b[0;34m\u001b[0m\u001b[0;34m\u001b[0m\u001b[0m\n\u001b[1;32m    676\u001b[0m         \u001b[0mindex\u001b[0m \u001b[0;34m=\u001b[0m \u001b[0mself\u001b[0m\u001b[0;34m.\u001b[0m\u001b[0m_next_index\u001b[0m\u001b[0;34m(\u001b[0m\u001b[0;34m)\u001b[0m  \u001b[0;31m# may raise StopIteration\u001b[0m\u001b[0;34m\u001b[0m\u001b[0;34m\u001b[0m\u001b[0m\n\u001b[0;32m--> 677\u001b[0;31m         \u001b[0mdata\u001b[0m \u001b[0;34m=\u001b[0m \u001b[0mself\u001b[0m\u001b[0;34m.\u001b[0m\u001b[0m_dataset_fetcher\u001b[0m\u001b[0;34m.\u001b[0m\u001b[0mfetch\u001b[0m\u001b[0;34m(\u001b[0m\u001b[0mindex\u001b[0m\u001b[0;34m)\u001b[0m  \u001b[0;31m# may raise StopIteration\u001b[0m\u001b[0;34m\u001b[0m\u001b[0;34m\u001b[0m\u001b[0m\n\u001b[0m\u001b[1;32m    678\u001b[0m         \u001b[0;32mif\u001b[0m \u001b[0mself\u001b[0m\u001b[0;34m.\u001b[0m\u001b[0m_pin_memory\u001b[0m\u001b[0;34m:\u001b[0m\u001b[0;34m\u001b[0m\u001b[0;34m\u001b[0m\u001b[0m\n\u001b[1;32m    679\u001b[0m             \u001b[0mdata\u001b[0m \u001b[0;34m=\u001b[0m \u001b[0m_utils\u001b[0m\u001b[0;34m.\u001b[0m\u001b[0mpin_memory\u001b[0m\u001b[0;34m.\u001b[0m\u001b[0mpin_memory\u001b[0m\u001b[0;34m(\u001b[0m\u001b[0mdata\u001b[0m\u001b[0;34m,\u001b[0m \u001b[0mself\u001b[0m\u001b[0;34m.\u001b[0m\u001b[0m_pin_memory_device\u001b[0m\u001b[0;34m)\u001b[0m\u001b[0;34m\u001b[0m\u001b[0;34m\u001b[0m\u001b[0m\n",
            "\u001b[0;32m/usr/local/lib/python3.10/dist-packages/torch/utils/data/_utils/fetch.py\u001b[0m in \u001b[0;36mfetch\u001b[0;34m(self, possibly_batched_index)\u001b[0m\n\u001b[1;32m     49\u001b[0m                 \u001b[0mdata\u001b[0m \u001b[0;34m=\u001b[0m \u001b[0mself\u001b[0m\u001b[0;34m.\u001b[0m\u001b[0mdataset\u001b[0m\u001b[0;34m.\u001b[0m\u001b[0m__getitems__\u001b[0m\u001b[0;34m(\u001b[0m\u001b[0mpossibly_batched_index\u001b[0m\u001b[0;34m)\u001b[0m\u001b[0;34m\u001b[0m\u001b[0;34m\u001b[0m\u001b[0m\n\u001b[1;32m     50\u001b[0m             \u001b[0;32melse\u001b[0m\u001b[0;34m:\u001b[0m\u001b[0;34m\u001b[0m\u001b[0;34m\u001b[0m\u001b[0m\n\u001b[0;32m---> 51\u001b[0;31m                 \u001b[0mdata\u001b[0m \u001b[0;34m=\u001b[0m \u001b[0;34m[\u001b[0m\u001b[0mself\u001b[0m\u001b[0;34m.\u001b[0m\u001b[0mdataset\u001b[0m\u001b[0;34m[\u001b[0m\u001b[0midx\u001b[0m\u001b[0;34m]\u001b[0m \u001b[0;32mfor\u001b[0m \u001b[0midx\u001b[0m \u001b[0;32min\u001b[0m \u001b[0mpossibly_batched_index\u001b[0m\u001b[0;34m]\u001b[0m\u001b[0;34m\u001b[0m\u001b[0;34m\u001b[0m\u001b[0m\n\u001b[0m\u001b[1;32m     52\u001b[0m         \u001b[0;32melse\u001b[0m\u001b[0;34m:\u001b[0m\u001b[0;34m\u001b[0m\u001b[0;34m\u001b[0m\u001b[0m\n\u001b[1;32m     53\u001b[0m             \u001b[0mdata\u001b[0m \u001b[0;34m=\u001b[0m \u001b[0mself\u001b[0m\u001b[0;34m.\u001b[0m\u001b[0mdataset\u001b[0m\u001b[0;34m[\u001b[0m\u001b[0mpossibly_batched_index\u001b[0m\u001b[0;34m]\u001b[0m\u001b[0;34m\u001b[0m\u001b[0;34m\u001b[0m\u001b[0m\n",
            "\u001b[0;32m/usr/local/lib/python3.10/dist-packages/torch/utils/data/_utils/fetch.py\u001b[0m in \u001b[0;36m<listcomp>\u001b[0;34m(.0)\u001b[0m\n\u001b[1;32m     49\u001b[0m                 \u001b[0mdata\u001b[0m \u001b[0;34m=\u001b[0m \u001b[0mself\u001b[0m\u001b[0;34m.\u001b[0m\u001b[0mdataset\u001b[0m\u001b[0;34m.\u001b[0m\u001b[0m__getitems__\u001b[0m\u001b[0;34m(\u001b[0m\u001b[0mpossibly_batched_index\u001b[0m\u001b[0;34m)\u001b[0m\u001b[0;34m\u001b[0m\u001b[0;34m\u001b[0m\u001b[0m\n\u001b[1;32m     50\u001b[0m             \u001b[0;32melse\u001b[0m\u001b[0;34m:\u001b[0m\u001b[0;34m\u001b[0m\u001b[0;34m\u001b[0m\u001b[0m\n\u001b[0;32m---> 51\u001b[0;31m                 \u001b[0mdata\u001b[0m \u001b[0;34m=\u001b[0m \u001b[0;34m[\u001b[0m\u001b[0mself\u001b[0m\u001b[0;34m.\u001b[0m\u001b[0mdataset\u001b[0m\u001b[0;34m[\u001b[0m\u001b[0midx\u001b[0m\u001b[0;34m]\u001b[0m \u001b[0;32mfor\u001b[0m \u001b[0midx\u001b[0m \u001b[0;32min\u001b[0m \u001b[0mpossibly_batched_index\u001b[0m\u001b[0;34m]\u001b[0m\u001b[0;34m\u001b[0m\u001b[0;34m\u001b[0m\u001b[0m\n\u001b[0m\u001b[1;32m     52\u001b[0m         \u001b[0;32melse\u001b[0m\u001b[0;34m:\u001b[0m\u001b[0;34m\u001b[0m\u001b[0;34m\u001b[0m\u001b[0m\n\u001b[1;32m     53\u001b[0m             \u001b[0mdata\u001b[0m \u001b[0;34m=\u001b[0m \u001b[0mself\u001b[0m\u001b[0;34m.\u001b[0m\u001b[0mdataset\u001b[0m\u001b[0;34m[\u001b[0m\u001b[0mpossibly_batched_index\u001b[0m\u001b[0;34m]\u001b[0m\u001b[0;34m\u001b[0m\u001b[0;34m\u001b[0m\u001b[0m\n",
            "\u001b[0;32m<ipython-input-2-20db6c83eb35>\u001b[0m in \u001b[0;36m__getitem__\u001b[0;34m(self, idx)\u001b[0m\n\u001b[1;32m     27\u001b[0m \u001b[0;34m\u001b[0m\u001b[0m\n\u001b[1;32m     28\u001b[0m         \u001b[0;32mif\u001b[0m \u001b[0;32mTrue\u001b[0m\u001b[0;34m:\u001b[0m\u001b[0;34m\u001b[0m\u001b[0;34m\u001b[0m\u001b[0m\n\u001b[0;32m---> 29\u001b[0;31m           \u001b[0msample_x\u001b[0m\u001b[0;34m,\u001b[0m \u001b[0msample_y\u001b[0m \u001b[0;34m=\u001b[0m \u001b[0mself\u001b[0m\u001b[0;34m.\u001b[0m\u001b[0mtransforms\u001b[0m\u001b[0;34m(\u001b[0m\u001b[0msample_x\u001b[0m\u001b[0;34m,\u001b[0m \u001b[0msample_y\u001b[0m\u001b[0;34m)\u001b[0m\u001b[0;34m\u001b[0m\u001b[0;34m\u001b[0m\u001b[0m\n\u001b[0m\u001b[1;32m     30\u001b[0m \u001b[0;34m\u001b[0m\u001b[0m\n\u001b[1;32m     31\u001b[0m \u001b[0;34m\u001b[0m\u001b[0m\n",
            "\u001b[0;32m<ipython-input-2-20db6c83eb35>\u001b[0m in \u001b[0;36mtensorization_transform\u001b[0;34m(x, y)\u001b[0m\n\u001b[1;32m     40\u001b[0m \u001b[0;34m\u001b[0m\u001b[0m\n\u001b[1;32m     41\u001b[0m         \u001b[0;31m# transform it to torch tensor to move them to cuda\u001b[0m\u001b[0;34m\u001b[0m\u001b[0;34m\u001b[0m\u001b[0m\n\u001b[0;32m---> 42\u001b[0;31m         \u001b[0;32mif\u001b[0m \u001b[0mtorch\u001b[0m\u001b[0;34m.\u001b[0m\u001b[0mcuda\u001b[0m\u001b[0;34m.\u001b[0m\u001b[0mis_available\u001b[0m\u001b[0;34m(\u001b[0m\u001b[0;34m)\u001b[0m\u001b[0;34m:\u001b[0m\u001b[0;34m\u001b[0m\u001b[0;34m\u001b[0m\u001b[0m\n\u001b[0m\u001b[1;32m     43\u001b[0m \u001b[0;34m\u001b[0m\u001b[0m\n\u001b[1;32m     44\u001b[0m           \u001b[0msample_x\u001b[0m \u001b[0;34m=\u001b[0m \u001b[0mtorch\u001b[0m\u001b[0;34m.\u001b[0m\u001b[0mfrom_numpy\u001b[0m\u001b[0;34m(\u001b[0m\u001b[0msample_x\u001b[0m\u001b[0;34m)\u001b[0m\u001b[0;34m.\u001b[0m\u001b[0mto\u001b[0m\u001b[0;34m(\u001b[0m\u001b[0;34m\"cuda\"\u001b[0m\u001b[0;34m)\u001b[0m\u001b[0;34m\u001b[0m\u001b[0;34m\u001b[0m\u001b[0m\n",
            "\u001b[0;32m/usr/local/lib/python3.10/dist-packages/torch/cuda/__init__.py\u001b[0m in \u001b[0;36mis_available\u001b[0;34m()\u001b[0m\n\u001b[1;32m    105\u001b[0m         \u001b[0;31m# be initialized. This uses the CUDA Runtime API `cudaGetDeviceCount` which in turn initializes the CUDA Driver\u001b[0m\u001b[0;34m\u001b[0m\u001b[0;34m\u001b[0m\u001b[0m\n\u001b[1;32m    106\u001b[0m         \u001b[0;31m# API via `cuInit`\u001b[0m\u001b[0;34m\u001b[0m\u001b[0;34m\u001b[0m\u001b[0m\n\u001b[0;32m--> 107\u001b[0;31m         \u001b[0;32mreturn\u001b[0m \u001b[0mtorch\u001b[0m\u001b[0;34m.\u001b[0m\u001b[0m_C\u001b[0m\u001b[0;34m.\u001b[0m\u001b[0m_cuda_getDeviceCount\u001b[0m\u001b[0;34m(\u001b[0m\u001b[0;34m)\u001b[0m \u001b[0;34m>\u001b[0m \u001b[0;36m0\u001b[0m\u001b[0;34m\u001b[0m\u001b[0;34m\u001b[0m\u001b[0m\n\u001b[0m\u001b[1;32m    108\u001b[0m \u001b[0;34m\u001b[0m\u001b[0m\n\u001b[1;32m    109\u001b[0m \u001b[0;34m\u001b[0m\u001b[0m\n",
            "\u001b[0;31mKeyboardInterrupt\u001b[0m: "
          ]
        }
      ]
    },
    {
      "cell_type": "code",
      "source": [
        "def printout_best_genotype(x_best):\n",
        "  genotype = x_best\n",
        "  ea = EA()\n",
        "  phenotype_config = ea.config_from_single_genotype(genotype)\n",
        "  phenotype = MultiConfigCNN(phenotype_config)\n",
        "  input = next(iter(training_loader))[0]\n",
        "  model_graph = draw_graph(phenotype, input_data=input)\n",
        "  print(\"\\033[31mBEST GENOTYPE :\", \"\\033[0m\")\n",
        "  print(\"\")\n",
        "  print(\"==>\",x_best)\n",
        "  print(\"\")\n",
        "  print(\"\")\n",
        "  print(\"\\033[31mITS PHENOTYPE CONFIGURATION:\",\"\\033[0m\")\n",
        "  print(\"\")\n",
        "  print(\"==>\",phenotype_config)\n",
        "  print(\"\")\n",
        "  print(\"\")\n",
        "  print(\"\\033[31mBEST VISUAL OF THE MODEL\", \"\\033[0m\")\n",
        "  print(\"\")\n",
        "  return model_graph.visual_graph"
      ],
      "metadata": {
        "id": "LFWpykYBX9Rx"
      },
      "execution_count": 63,
      "outputs": []
    },
    {
      "cell_type": "code",
      "source": [
        "printout_best_genotype(x_best)\n"
      ],
      "metadata": {
        "id": "1xIlbDwjA63y",
        "outputId": "32249d50-84d8-4bd5-f1b3-87386f954cd2",
        "colab": {
          "base_uri": "https://localhost:8080/",
          "height": 1000
        }
      },
      "execution_count": 64,
      "outputs": [
        {
          "output_type": "stream",
          "name": "stdout",
          "text": [
            "\u001b[31mBEST GENOTYPE : \u001b[0m\n",
            "\n",
            "==> [2, 0, 4, 3, 8]\n",
            "\n",
            "\n",
            "\u001b[31mITS PHENOTYPE CONFIGURATION: \u001b[0m\n",
            "\n",
            "==> {'conv_filters': 32, 'cnn_architectures': {'kernel_size': 3, 'stride': 1, 'padding': 1}, 'activation': ELU(alpha=1.0), 'pooling': {'kernel_size': 'Identity', 'pooling_type': 'Maximum'}, 'linear_1_neurons': 90}\n",
            "\n",
            "\n",
            "\u001b[31mBEST VISUAL OF THE MODEL \u001b[0m\n",
            "\n"
          ]
        },
        {
          "output_type": "execute_result",
          "data": {
            "image/svg+xml": "<?xml version=\"1.0\" encoding=\"UTF-8\" standalone=\"no\"?>\n<!DOCTYPE svg PUBLIC \"-//W3C//DTD SVG 1.1//EN\"\n \"http://www.w3.org/Graphics/SVG/1.1/DTD/svg11.dtd\">\n<!-- Generated by graphviz version 2.43.0 (0)\n -->\n<!-- Title: model Pages: 1 -->\n<svg width=\"233pt\" height=\"732pt\"\n viewBox=\"0.00 0.00 233.00 732.00\" xmlns=\"http://www.w3.org/2000/svg\" xmlns:xlink=\"http://www.w3.org/1999/xlink\">\n<g id=\"graph0\" class=\"graph\" transform=\"scale(1 1) rotate(0) translate(4 728)\">\n<title>model</title>\n<polygon fill=\"white\" stroke=\"transparent\" points=\"-4,4 -4,-728 229,-728 229,4 -4,4\"/>\n<!-- 0 -->\n<g id=\"node1\" class=\"node\">\n<title>0</title>\n<polygon fill=\"lightyellow\" stroke=\"transparent\" points=\"198.5,-724 26.5,-724 26.5,-692 198.5,-692 198.5,-724\"/>\n<polygon fill=\"none\" stroke=\"black\" points=\"26.5,-692 26.5,-724 109.5,-724 109.5,-692 26.5,-692\"/>\n<text text-anchor=\"start\" x=\"31.5\" y=\"-711\" font-family=\"Linux libertine\" font-size=\"10.00\">input&#45;tensor</text>\n<text text-anchor=\"start\" x=\"46.5\" y=\"-700\" font-family=\"Linux libertine\" font-size=\"10.00\">depth:0</text>\n<polygon fill=\"none\" stroke=\"black\" points=\"109.5,-692 109.5,-724 198.5,-724 198.5,-692 109.5,-692\"/>\n<text text-anchor=\"start\" x=\"114.5\" y=\"-705.5\" font-family=\"Linux libertine\" font-size=\"10.00\">(64, 1, 8, 8)</text>\n</g>\n<!-- 1 -->\n<g id=\"node2\" class=\"node\">\n<title>1</title>\n<polygon fill=\"#c1ffc1\" stroke=\"transparent\" points=\"219,-656 6,-656 6,-614 219,-614 219,-656\"/>\n<polygon fill=\"none\" stroke=\"black\" points=\"6.5,-614 6.5,-656 59.5,-656 59.5,-614 6.5,-614\"/>\n<text text-anchor=\"start\" x=\"14.5\" y=\"-638\" font-family=\"Linux libertine\" font-size=\"10.00\">Conv2d</text>\n<text text-anchor=\"start\" x=\"11.5\" y=\"-627\" font-family=\"Linux libertine\" font-size=\"10.00\">depth:1</text>\n<polygon fill=\"none\" stroke=\"black\" points=\"59.5,-635 59.5,-656 118.5,-656 118.5,-635 59.5,-635\"/>\n<text text-anchor=\"start\" x=\"70.5\" y=\"-643\" font-family=\"Linux libertine\" font-size=\"10.00\">input:</text>\n<polygon fill=\"none\" stroke=\"black\" points=\"118.5,-635 118.5,-656 219.5,-656 219.5,-635 118.5,-635\"/>\n<text text-anchor=\"start\" x=\"126.5\" y=\"-643\" font-family=\"Linux libertine\" font-size=\"10.00\">(64, 1, 8, 8) </text>\n<polygon fill=\"none\" stroke=\"black\" points=\"59.5,-614 59.5,-635 118.5,-635 118.5,-614 59.5,-614\"/>\n<text text-anchor=\"start\" x=\"64.5\" y=\"-622\" font-family=\"Linux libertine\" font-size=\"10.00\">output: </text>\n<polygon fill=\"none\" stroke=\"black\" points=\"118.5,-614 118.5,-635 219.5,-635 219.5,-614 118.5,-614\"/>\n<text text-anchor=\"start\" x=\"123.5\" y=\"-622\" font-family=\"Linux libertine\" font-size=\"10.00\">(64, 32, 8, 8) </text>\n</g>\n<!-- 0&#45;&gt;1 -->\n<g id=\"edge1\" class=\"edge\">\n<title>0&#45;&gt;1</title>\n<path fill=\"none\" stroke=\"black\" d=\"M112.5,-691.94C112.5,-684.45 112.5,-675.12 112.5,-666.24\"/>\n<polygon fill=\"black\" stroke=\"black\" points=\"116,-666.16 112.5,-656.16 109,-666.16 116,-666.16\"/>\n</g>\n<!-- 2 -->\n<g id=\"node3\" class=\"node\">\n<title>2</title>\n<polygon fill=\"#c1ffc1\" stroke=\"transparent\" points=\"219,-578 6,-578 6,-536 219,-536 219,-578\"/>\n<polygon fill=\"none\" stroke=\"black\" points=\"6.5,-536 6.5,-578 59.5,-578 59.5,-536 6.5,-536\"/>\n<text text-anchor=\"start\" x=\"23.5\" y=\"-560\" font-family=\"Linux libertine\" font-size=\"10.00\">ELU</text>\n<text text-anchor=\"start\" x=\"11.5\" y=\"-549\" font-family=\"Linux libertine\" font-size=\"10.00\">depth:1</text>\n<polygon fill=\"none\" stroke=\"black\" points=\"59.5,-557 59.5,-578 118.5,-578 118.5,-557 59.5,-557\"/>\n<text text-anchor=\"start\" x=\"70.5\" y=\"-565\" font-family=\"Linux libertine\" font-size=\"10.00\">input:</text>\n<polygon fill=\"none\" stroke=\"black\" points=\"118.5,-557 118.5,-578 219.5,-578 219.5,-557 118.5,-557\"/>\n<text text-anchor=\"start\" x=\"123.5\" y=\"-565\" font-family=\"Linux libertine\" font-size=\"10.00\">(64, 32, 8, 8) </text>\n<polygon fill=\"none\" stroke=\"black\" points=\"59.5,-536 59.5,-557 118.5,-557 118.5,-536 59.5,-536\"/>\n<text text-anchor=\"start\" x=\"64.5\" y=\"-544\" font-family=\"Linux libertine\" font-size=\"10.00\">output: </text>\n<polygon fill=\"none\" stroke=\"black\" points=\"118.5,-536 118.5,-557 219.5,-557 219.5,-536 118.5,-536\"/>\n<text text-anchor=\"start\" x=\"123.5\" y=\"-544\" font-family=\"Linux libertine\" font-size=\"10.00\">(64, 32, 8, 8) </text>\n</g>\n<!-- 1&#45;&gt;2 -->\n<g id=\"edge2\" class=\"edge\">\n<title>1&#45;&gt;2</title>\n<path fill=\"none\" stroke=\"black\" d=\"M112.5,-613.63C112.5,-605.82 112.5,-596.73 112.5,-588.18\"/>\n<polygon fill=\"black\" stroke=\"black\" points=\"116,-588.16 112.5,-578.16 109,-588.16 116,-588.16\"/>\n</g>\n<!-- 3 -->\n<g id=\"node4\" class=\"node\">\n<title>3</title>\n<polygon fill=\"#c1ffc1\" stroke=\"transparent\" points=\"225,-500 0,-500 0,-458 225,-458 225,-500\"/>\n<polygon fill=\"none\" stroke=\"black\" points=\"0.5,-458 0.5,-500 65.5,-500 65.5,-458 0.5,-458\"/>\n<text text-anchor=\"start\" x=\"5.5\" y=\"-482\" font-family=\"Linux libertine\" font-size=\"10.00\">MaxPool2d</text>\n<text text-anchor=\"start\" x=\"11.5\" y=\"-471\" font-family=\"Linux libertine\" font-size=\"10.00\">depth:1</text>\n<polygon fill=\"none\" stroke=\"black\" points=\"65.5,-479 65.5,-500 124.5,-500 124.5,-479 65.5,-479\"/>\n<text text-anchor=\"start\" x=\"76.5\" y=\"-487\" font-family=\"Linux libertine\" font-size=\"10.00\">input:</text>\n<polygon fill=\"none\" stroke=\"black\" points=\"124.5,-479 124.5,-500 225.5,-500 225.5,-479 124.5,-479\"/>\n<text text-anchor=\"start\" x=\"129.5\" y=\"-487\" font-family=\"Linux libertine\" font-size=\"10.00\">(64, 32, 8, 8) </text>\n<polygon fill=\"none\" stroke=\"black\" points=\"65.5,-458 65.5,-479 124.5,-479 124.5,-458 65.5,-458\"/>\n<text text-anchor=\"start\" x=\"70.5\" y=\"-466\" font-family=\"Linux libertine\" font-size=\"10.00\">output: </text>\n<polygon fill=\"none\" stroke=\"black\" points=\"124.5,-458 124.5,-479 225.5,-479 225.5,-458 124.5,-458\"/>\n<text text-anchor=\"start\" x=\"129.5\" y=\"-466\" font-family=\"Linux libertine\" font-size=\"10.00\">(64, 32, 4, 4) </text>\n</g>\n<!-- 2&#45;&gt;3 -->\n<g id=\"edge3\" class=\"edge\">\n<title>2&#45;&gt;3</title>\n<path fill=\"none\" stroke=\"black\" d=\"M112.5,-535.63C112.5,-527.82 112.5,-518.73 112.5,-510.18\"/>\n<polygon fill=\"black\" stroke=\"black\" points=\"116,-510.16 112.5,-500.16 109,-510.16 116,-510.16\"/>\n</g>\n<!-- 4 -->\n<g id=\"node5\" class=\"node\">\n<title>4</title>\n<polygon fill=\"#c1ffc1\" stroke=\"transparent\" points=\"219,-422 6,-422 6,-380 219,-380 219,-422\"/>\n<polygon fill=\"none\" stroke=\"black\" points=\"6.5,-380 6.5,-422 59.5,-422 59.5,-380 6.5,-380\"/>\n<text text-anchor=\"start\" x=\"11.5\" y=\"-404\" font-family=\"Linux libertine\" font-size=\"10.00\">Flatten</text>\n<text text-anchor=\"start\" x=\"11.5\" y=\"-393\" font-family=\"Linux libertine\" font-size=\"10.00\">depth:1</text>\n<polygon fill=\"none\" stroke=\"black\" points=\"59.5,-401 59.5,-422 118.5,-422 118.5,-401 59.5,-401\"/>\n<text text-anchor=\"start\" x=\"70.5\" y=\"-409\" font-family=\"Linux libertine\" font-size=\"10.00\">input:</text>\n<polygon fill=\"none\" stroke=\"black\" points=\"118.5,-401 118.5,-422 219.5,-422 219.5,-401 118.5,-401\"/>\n<text text-anchor=\"start\" x=\"123.5\" y=\"-409\" font-family=\"Linux libertine\" font-size=\"10.00\">(64, 32, 4, 4) </text>\n<polygon fill=\"none\" stroke=\"black\" points=\"59.5,-380 59.5,-401 118.5,-401 118.5,-380 59.5,-380\"/>\n<text text-anchor=\"start\" x=\"64.5\" y=\"-388\" font-family=\"Linux libertine\" font-size=\"10.00\">output: </text>\n<polygon fill=\"none\" stroke=\"black\" points=\"118.5,-380 118.5,-401 219.5,-401 219.5,-380 118.5,-380\"/>\n<text text-anchor=\"start\" x=\"138.5\" y=\"-388\" font-family=\"Linux libertine\" font-size=\"10.00\">(64, 512) </text>\n</g>\n<!-- 3&#45;&gt;4 -->\n<g id=\"edge4\" class=\"edge\">\n<title>3&#45;&gt;4</title>\n<path fill=\"none\" stroke=\"black\" d=\"M112.5,-457.63C112.5,-449.82 112.5,-440.73 112.5,-432.18\"/>\n<polygon fill=\"black\" stroke=\"black\" points=\"116,-432.16 112.5,-422.16 109,-432.16 116,-432.16\"/>\n</g>\n<!-- 5 -->\n<g id=\"node6\" class=\"node\">\n<title>5</title>\n<polygon fill=\"#c1ffc1\" stroke=\"transparent\" points=\"204,-344 21,-344 21,-302 204,-302 204,-344\"/>\n<polygon fill=\"none\" stroke=\"black\" points=\"21.5,-302 21.5,-344 74.5,-344 74.5,-302 21.5,-302\"/>\n<text text-anchor=\"start\" x=\"29.5\" y=\"-326\" font-family=\"Linux libertine\" font-size=\"10.00\">Linear</text>\n<text text-anchor=\"start\" x=\"26.5\" y=\"-315\" font-family=\"Linux libertine\" font-size=\"10.00\">depth:1</text>\n<polygon fill=\"none\" stroke=\"black\" points=\"74.5,-323 74.5,-344 133.5,-344 133.5,-323 74.5,-323\"/>\n<text text-anchor=\"start\" x=\"85.5\" y=\"-331\" font-family=\"Linux libertine\" font-size=\"10.00\">input:</text>\n<polygon fill=\"none\" stroke=\"black\" points=\"133.5,-323 133.5,-344 204.5,-344 204.5,-323 133.5,-323\"/>\n<text text-anchor=\"start\" x=\"138.5\" y=\"-331\" font-family=\"Linux libertine\" font-size=\"10.00\">(64, 512) </text>\n<polygon fill=\"none\" stroke=\"black\" points=\"74.5,-302 74.5,-323 133.5,-323 133.5,-302 74.5,-302\"/>\n<text text-anchor=\"start\" x=\"79.5\" y=\"-310\" font-family=\"Linux libertine\" font-size=\"10.00\">output: </text>\n<polygon fill=\"none\" stroke=\"black\" points=\"133.5,-302 133.5,-323 204.5,-323 204.5,-302 133.5,-302\"/>\n<text text-anchor=\"start\" x=\"141.5\" y=\"-310\" font-family=\"Linux libertine\" font-size=\"10.00\">(64, 10) </text>\n</g>\n<!-- 4&#45;&gt;5 -->\n<g id=\"edge5\" class=\"edge\">\n<title>4&#45;&gt;5</title>\n<path fill=\"none\" stroke=\"black\" d=\"M112.5,-379.63C112.5,-371.82 112.5,-362.73 112.5,-354.18\"/>\n<polygon fill=\"black\" stroke=\"black\" points=\"116,-354.16 112.5,-344.16 109,-354.16 116,-354.16\"/>\n</g>\n<!-- 6 -->\n<g id=\"node7\" class=\"node\">\n<title>6</title>\n<polygon fill=\"#c1ffc1\" stroke=\"transparent\" points=\"201,-266 24,-266 24,-224 201,-224 201,-266\"/>\n<polygon fill=\"none\" stroke=\"black\" points=\"24.5,-224 24.5,-266 77.5,-266 77.5,-224 24.5,-224\"/>\n<text text-anchor=\"start\" x=\"41.5\" y=\"-248\" font-family=\"Linux libertine\" font-size=\"10.00\">ELU</text>\n<text text-anchor=\"start\" x=\"29.5\" y=\"-237\" font-family=\"Linux libertine\" font-size=\"10.00\">depth:1</text>\n<polygon fill=\"none\" stroke=\"black\" points=\"77.5,-245 77.5,-266 136.5,-266 136.5,-245 77.5,-245\"/>\n<text text-anchor=\"start\" x=\"88.5\" y=\"-253\" font-family=\"Linux libertine\" font-size=\"10.00\">input:</text>\n<polygon fill=\"none\" stroke=\"black\" points=\"136.5,-245 136.5,-266 201.5,-266 201.5,-245 136.5,-245\"/>\n<text text-anchor=\"start\" x=\"141.5\" y=\"-253\" font-family=\"Linux libertine\" font-size=\"10.00\">(64, 10) </text>\n<polygon fill=\"none\" stroke=\"black\" points=\"77.5,-224 77.5,-245 136.5,-245 136.5,-224 77.5,-224\"/>\n<text text-anchor=\"start\" x=\"82.5\" y=\"-232\" font-family=\"Linux libertine\" font-size=\"10.00\">output: </text>\n<polygon fill=\"none\" stroke=\"black\" points=\"136.5,-224 136.5,-245 201.5,-245 201.5,-224 136.5,-224\"/>\n<text text-anchor=\"start\" x=\"141.5\" y=\"-232\" font-family=\"Linux libertine\" font-size=\"10.00\">(64, 10) </text>\n</g>\n<!-- 5&#45;&gt;6 -->\n<g id=\"edge6\" class=\"edge\">\n<title>5&#45;&gt;6</title>\n<path fill=\"none\" stroke=\"black\" d=\"M112.5,-301.63C112.5,-293.82 112.5,-284.73 112.5,-276.18\"/>\n<polygon fill=\"black\" stroke=\"black\" points=\"116,-276.16 112.5,-266.16 109,-276.16 116,-276.16\"/>\n</g>\n<!-- 7 -->\n<g id=\"node8\" class=\"node\">\n<title>7</title>\n<polygon fill=\"#c1ffc1\" stroke=\"transparent\" points=\"201,-188 24,-188 24,-146 201,-146 201,-188\"/>\n<polygon fill=\"none\" stroke=\"black\" points=\"24.5,-146 24.5,-188 77.5,-188 77.5,-146 24.5,-146\"/>\n<text text-anchor=\"start\" x=\"32.5\" y=\"-170\" font-family=\"Linux libertine\" font-size=\"10.00\">Linear</text>\n<text text-anchor=\"start\" x=\"29.5\" y=\"-159\" font-family=\"Linux libertine\" font-size=\"10.00\">depth:1</text>\n<polygon fill=\"none\" stroke=\"black\" points=\"77.5,-167 77.5,-188 136.5,-188 136.5,-167 77.5,-167\"/>\n<text text-anchor=\"start\" x=\"88.5\" y=\"-175\" font-family=\"Linux libertine\" font-size=\"10.00\">input:</text>\n<polygon fill=\"none\" stroke=\"black\" points=\"136.5,-167 136.5,-188 201.5,-188 201.5,-167 136.5,-167\"/>\n<text text-anchor=\"start\" x=\"141.5\" y=\"-175\" font-family=\"Linux libertine\" font-size=\"10.00\">(64, 10) </text>\n<polygon fill=\"none\" stroke=\"black\" points=\"77.5,-146 77.5,-167 136.5,-167 136.5,-146 77.5,-146\"/>\n<text text-anchor=\"start\" x=\"82.5\" y=\"-154\" font-family=\"Linux libertine\" font-size=\"10.00\">output: </text>\n<polygon fill=\"none\" stroke=\"black\" points=\"136.5,-146 136.5,-167 201.5,-167 201.5,-146 136.5,-146\"/>\n<text text-anchor=\"start\" x=\"141.5\" y=\"-154\" font-family=\"Linux libertine\" font-size=\"10.00\">(64, 10) </text>\n</g>\n<!-- 6&#45;&gt;7 -->\n<g id=\"edge7\" class=\"edge\">\n<title>6&#45;&gt;7</title>\n<path fill=\"none\" stroke=\"black\" d=\"M112.5,-223.63C112.5,-215.82 112.5,-206.73 112.5,-198.18\"/>\n<polygon fill=\"black\" stroke=\"black\" points=\"116,-198.16 112.5,-188.16 109,-198.16 116,-198.16\"/>\n</g>\n<!-- 8 -->\n<g id=\"node9\" class=\"node\">\n<title>8</title>\n<polygon fill=\"#c1ffc1\" stroke=\"transparent\" points=\"210,-110 15,-110 15,-68 210,-68 210,-110\"/>\n<polygon fill=\"none\" stroke=\"black\" points=\"15.5,-68 15.5,-110 86.5,-110 86.5,-68 15.5,-68\"/>\n<text text-anchor=\"start\" x=\"20.5\" y=\"-92\" font-family=\"Linux libertine\" font-size=\"10.00\">LogSoftmax</text>\n<text text-anchor=\"start\" x=\"29.5\" y=\"-81\" font-family=\"Linux libertine\" font-size=\"10.00\">depth:1</text>\n<polygon fill=\"none\" stroke=\"black\" points=\"86.5,-89 86.5,-110 145.5,-110 145.5,-89 86.5,-89\"/>\n<text text-anchor=\"start\" x=\"97.5\" y=\"-97\" font-family=\"Linux libertine\" font-size=\"10.00\">input:</text>\n<polygon fill=\"none\" stroke=\"black\" points=\"145.5,-89 145.5,-110 210.5,-110 210.5,-89 145.5,-89\"/>\n<text text-anchor=\"start\" x=\"150.5\" y=\"-97\" font-family=\"Linux libertine\" font-size=\"10.00\">(64, 10) </text>\n<polygon fill=\"none\" stroke=\"black\" points=\"86.5,-68 86.5,-89 145.5,-89 145.5,-68 86.5,-68\"/>\n<text text-anchor=\"start\" x=\"91.5\" y=\"-76\" font-family=\"Linux libertine\" font-size=\"10.00\">output: </text>\n<polygon fill=\"none\" stroke=\"black\" points=\"145.5,-68 145.5,-89 210.5,-89 210.5,-68 145.5,-68\"/>\n<text text-anchor=\"start\" x=\"150.5\" y=\"-76\" font-family=\"Linux libertine\" font-size=\"10.00\">(64, 10) </text>\n</g>\n<!-- 7&#45;&gt;8 -->\n<g id=\"edge8\" class=\"edge\">\n<title>7&#45;&gt;8</title>\n<path fill=\"none\" stroke=\"black\" d=\"M112.5,-145.63C112.5,-137.82 112.5,-128.73 112.5,-120.18\"/>\n<polygon fill=\"black\" stroke=\"black\" points=\"116,-120.16 112.5,-110.16 109,-120.16 116,-120.16\"/>\n</g>\n<!-- 9 -->\n<g id=\"node10\" class=\"node\">\n<title>9</title>\n<polygon fill=\"lightyellow\" stroke=\"transparent\" points=\"186.5,-32 38.5,-32 38.5,0 186.5,0 186.5,-32\"/>\n<polygon fill=\"none\" stroke=\"black\" points=\"38.5,0 38.5,-32 127.5,-32 127.5,0 38.5,0\"/>\n<text text-anchor=\"start\" x=\"43.5\" y=\"-19\" font-family=\"Linux libertine\" font-size=\"10.00\">output&#45;tensor</text>\n<text text-anchor=\"start\" x=\"61.5\" y=\"-8\" font-family=\"Linux libertine\" font-size=\"10.00\">depth:0</text>\n<polygon fill=\"none\" stroke=\"black\" points=\"127.5,0 127.5,-32 186.5,-32 186.5,0 127.5,0\"/>\n<text text-anchor=\"start\" x=\"132.5\" y=\"-13.5\" font-family=\"Linux libertine\" font-size=\"10.00\">(64, 10)</text>\n</g>\n<!-- 8&#45;&gt;9 -->\n<g id=\"edge9\" class=\"edge\">\n<title>8&#45;&gt;9</title>\n<path fill=\"none\" stroke=\"black\" d=\"M112.5,-67.84C112.5,-59.89 112.5,-50.66 112.5,-42.26\"/>\n<polygon fill=\"black\" stroke=\"black\" points=\"116,-42.24 112.5,-32.24 109,-42.24 116,-42.24\"/>\n</g>\n</g>\n</svg>\n",
            "text/plain": [
              "<graphviz.graphs.Digraph at 0x7f1041a1fa30>"
            ]
          },
          "metadata": {},
          "execution_count": 64
        }
      ]
    },
    {
      "cell_type": "code",
      "source": [],
      "metadata": {
        "id": "BIDhqlPRcYfk"
      },
      "execution_count": null,
      "outputs": []
    }
  ]
}