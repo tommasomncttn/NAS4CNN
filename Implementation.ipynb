{
  "nbformat": 4,
  "nbformat_minor": 0,
  "metadata": {
    "colab": {
      "provenance": [],
      "gpuType": "T4",
      "authorship_tag": "ABX9TyOTcn4AYkkuXw6b5y7JGP4N",
      "include_colab_link": true
    },
    "kernelspec": {
      "name": "python3",
      "display_name": "Python 3"
    },
    "language_info": {
      "name": "python"
    },
    "accelerator": "GPU",
    "gpuClass": "standard"
  },
  "cells": [
    {
      "cell_type": "markdown",
      "metadata": {
        "id": "view-in-github",
        "colab_type": "text"
      },
      "source": [
        "<a href=\"https://colab.research.google.com/github/tommasomncttn/NAS4CNN/blob/main/Implementation.ipynb\" target=\"_parent\"><img src=\"https://colab.research.google.com/assets/colab-badge.svg\" alt=\"Open In Colab\"/></a>"
      ]
    },
    {
      "cell_type": "markdown",
      "source": [
        "### Importing "
      ],
      "metadata": {
        "id": "_bmtpvl1n5sN"
      }
    },
    {
      "cell_type": "code",
      "source": [
        "import os\n",
        "import matplotlib.pyplot as plt\n",
        "import numpy as np\n",
        "import torch\n",
        "import torch.nn as nn\n",
        "import torch.nn.functional as F\n",
        "from sklearn import datasets\n",
        "from sklearn.datasets import load_digits\n",
        "from torch.utils.data import DataLoader, Dataset\n",
        "from tqdm.auto import tqdm"
      ],
      "metadata": {
        "id": "yNWkDl4JnPWo"
      },
      "execution_count": 54,
      "outputs": []
    },
    {
      "cell_type": "markdown",
      "source": [
        "### Dataset "
      ],
      "metadata": {
        "id": "T6i4WgSHoBE_"
      }
    },
    {
      "cell_type": "code",
      "source": [
        "class TensorizedDigits(Dataset):\n",
        "    \"\"\"Scikit-Learn Digits dataset.\"\"\"\n",
        "\n",
        "    def __init__(self, mode = \"train\", transforms = None, tensorized = True):\n",
        "        digits = load_digits()\n",
        "        if mode == \"train\":\n",
        "            self.data = digits.data[:1000].astype(np.float32)\n",
        "            self.targets = digits.target[:1000]\n",
        "        elif mode == \"val\":\n",
        "            self.data = digits.data[1000:1350].astype(np.float32)\n",
        "            self.targets = digits.target[1000:1350]\n",
        "        else:\n",
        "            self.data = digits.data[1350:].astype(np.float32)\n",
        "            self.targets = digits.target[1350:]\n",
        "\n",
        "        self.transforms = transforms\n",
        "\n",
        "        if tensorized:\n",
        "          self.transforms = TensorizedDigits.tensorization_transform\n",
        "\n",
        "    def __len__(self):\n",
        "        return len(self.data)\n",
        "\n",
        "    def __getitem__(self, idx):\n",
        "        sample_x = self.data[idx]\n",
        "        sample_y = self.targets[idx]\n",
        "        \n",
        "        if True:\n",
        "          sample_x, sample_y = self.transforms(sample_x, sample_y)\n",
        "        \n",
        "\n",
        "        return (sample_x, sample_y)\n",
        "\n",
        "    @staticmethod\n",
        "    def tensorization_transform(x, y):\n",
        "        \n",
        "        # reshape to get a valid input for a CNN\n",
        "        sample_x = x.reshape(1, 8, 8)\n",
        "        sample_y = y\n",
        "\n",
        "        # transform it to torch tensor to move them to cuda\n",
        "        if torch.cuda.is_available():\n",
        "\n",
        "          sample_x = torch.from_numpy(sample_x).to(\"cuda\")\n",
        "          sample_y = np.array(y)\n",
        "          sample_y = torch.from_numpy(sample_y).to(\"cuda\")\n",
        "\n",
        "\n",
        "        return sample_x, sample_y\n",
        "    \n",
        "    def visualize_datapoint(self, idx):\n",
        "\n",
        "      x,y = self.__getitem__( idx)\n",
        "      plt.imshow(x[0].cpu(), cmap=\"gray\")\n",
        "      plt.axis(\"off\")\n",
        "      plt.show()\n"
      ],
      "metadata": {
        "id": "tTaJR9yuoAnc"
      },
      "execution_count": 12,
      "outputs": []
    },
    {
      "cell_type": "markdown",
      "source": [
        "### Module"
      ],
      "metadata": {
        "id": "gvKE7U34B_pL"
      }
    },
    {
      "cell_type": "code",
      "source": [
        "class MultiConfigCNN(nn.Module):\n",
        "    '''Conv2d → f(.) → Pooling → Flatten → Linear 1 → f(.) → Linear 2 → Softmax\n",
        "    '''\n",
        "    def __init__(self, cnn_i_N = 1, cnn_o_N = 8, cnn_k_size = 3, stride = 1, padding = 1, pool_k_size = 2, fnn_o_N = 10):\n",
        "        super(MultiConfigCNN, self).__init__()\n",
        "\n",
        "        self.cnn_i_N = cnn_i_N\n",
        "        self.cnn_o_N = cnn_o_N\n",
        "        self.cnn_k_size = cnn_k_size\n",
        "        self.stride = stride\n",
        "        self.padding = padding\n",
        "        self.pool_k_size = pool_k_size\n",
        "        self.fnn_o_N = fnn_o_N\n",
        "        \n",
        "        self.cnn =  nn.Conv2d(in_channels = cnn_i_N, out_channels = cnn_o_N, kernel_size = cnn_k_size, stride = stride, padding = padding)\n",
        "        self.activation1 = nn.ReLU() # or sigmoid, tanh, softplus, elu\n",
        "        self.pool = nn.MaxPool2d(kernel_size = pool_k_size) # or avg pool\n",
        "        self.flatten = nn.Flatten()\n",
        "\n",
        "        self.linear1 = nn.Linear(in_features = self.compute_input_2_linear(), out_features = fnn_o_N)\n",
        "        self.activation2 = nn.ReLU() # or sigmoid, tanh, softplus, elu\n",
        "        self.linear2 = nn.Linear(in_features = fnn_o_N, out_features = 10)\n",
        "        self.softmax = nn.LogSoftmax(dim=1)\n",
        "\n",
        "        self.nll = nn.NLLLoss(reduction=\"none\") \n",
        "    \n",
        "    def compute_input_2_linear(self):\n",
        "\n",
        "        # computing after convolution => [(W-K+2P)/S]+1\n",
        "        after_cnn_channels = self.cnn_o_N\n",
        "        after_cnn_height = after_cnn_width = ((8 - self.cnn_k_size + 2 * self.padding) / self.stride) + 1\n",
        "\n",
        "        # computing after pooling => fixed values stride=kernel_dimension, padding=0, dilation=1 => formula at end of https://pytorch.org/docs/stable/generated/torch.nn.MaxPool2d.html\n",
        "        after_pool_height = after_pool_width = ((after_cnn_height - self.pool_k_size) / self.pool_k_size ) + 1\n",
        "\n",
        "        # computing after flattening \n",
        "\n",
        "        return int(after_pool_height * after_pool_width * after_cnn_channels)\n",
        "\n",
        "    def classify(self, log_prob):\n",
        "        \n",
        "        y_pred = torch.argmax(log_prob, dim = 1).long()        \n",
        "        return y_pred\n",
        "\n",
        "    def forward(self, x):\n",
        "        \n",
        "        x = self.cnn(x)\n",
        "        x = self.activation1(x)\n",
        "        x = self.pool(x)\n",
        "        x = self.flatten(x)\n",
        "        x = self.linear1(x)\n",
        "        x = self.activation2(x)\n",
        "        x = self.linear2(x)\n",
        "        log_prob = self.softmax(x)\n",
        "\n",
        "        return log_prob\n",
        "\n",
        "\n",
        "    def compute_loss(self, log_prob, y, reduction=\"avg\"):\n",
        "\n",
        "        loss = self.nll(log_prob, y)\n",
        "\n",
        "        if reduction == \"sum\":\n",
        "            return loss.sum()\n",
        "\n",
        "        else:\n",
        "            return loss.mean()\n",
        "\n",
        "    def count_misclassified(self, predictions, targets):\n",
        "\n",
        "        e = 1.0 * (predictions == targets)\n",
        "        misclassified = (1.0 - e).sum().item()\n",
        "        \n",
        "        return misclassified"
      ],
      "metadata": {
        "id": "Vp1stkTGB_Pu"
      },
      "execution_count": 75,
      "outputs": []
    },
    {
      "cell_type": "markdown",
      "source": [
        "### Training and Validation Loop"
      ],
      "metadata": {
        "id": "Orq0YdLVVBmT"
      }
    },
    {
      "cell_type": "code",
      "source": [
        "def configure_optimizer(model, lr = 1e-3, wd = 1e-5):\n",
        "  return torch.optim.Adamax(model.parameters(), lr=lr, weight_decay=wd)"
      ],
      "metadata": {
        "id": "8agD6jOXVJfO"
      },
      "execution_count": 121,
      "outputs": []
    },
    {
      "cell_type": "code",
      "source": [
        "def train_one_epoch(dataloader, model, optimizer, epoch_n = None):\n",
        "\n",
        "    model.train()\n",
        "\n",
        "    size = len(dataloader.dataset)\n",
        "    total_loss = 0\n",
        "    total_miss = 0\n",
        "    train_step = 0\n",
        "\n",
        "    for (X, y) in dataloader:\n",
        "\n",
        "        train_step += 1\n",
        "\n",
        "        # logits\n",
        "        log_prob = model(X)\n",
        "\n",
        "        # classification\n",
        "        predictions = model.classify(log_prob)\n",
        "\n",
        "        # misclassified \n",
        "        missclassified = model.count_misclassified(predictions, y)\n",
        "        total_miss += missclassified\n",
        "\n",
        "        # loss\n",
        "        loss = model.compute_loss(log_prob, y, reduction = \"sum\")\n",
        "        total_loss += loss\n",
        "\n",
        "        # Backpropagation\n",
        "        loss.backward()\n",
        "        optimizer.step()\n",
        "        optimizer.zero_grad()\n",
        "\n",
        "    \n",
        "    # compute epoch statistics\n",
        "    avg_loss = total_loss / size\n",
        "    avg_ce = total_miss / size\n",
        "    \n",
        "    \n",
        "    print(\"\")\n",
        "    print(f\" TRAINING => Results of epoch number {epoch_n}:\")\n",
        "    print('')\n",
        "    print('    Average training loss: {0:.5f}'.format(avg_loss))\n",
        "    print('    Average training classification error: {0:.5f}'.format(avg_ce))\n",
        "\n",
        "    return avg_loss.item(), avg_ce\n"
      ],
      "metadata": {
        "id": "dvikPF_VWuBx"
      },
      "execution_count": 143,
      "outputs": []
    },
    {
      "cell_type": "code",
      "source": [
        "def evaluation_one_epoch(dataloader, model, optimizer, mode = \"validation\", epoch_n = None):\n",
        "\n",
        "    model.eval()\n",
        "\n",
        "    size = len(dataloader.dataset)\n",
        "    total_loss = 0\n",
        "    total_miss = 0\n",
        "    val_step = 0\n",
        "\n",
        "\n",
        "    with torch.no_grad():\n",
        "\n",
        "      for (X, y) in dataloader:\n",
        "\n",
        "          val_step += 1\n",
        "\n",
        "          # logits\n",
        "          log_prob = model(X)\n",
        "\n",
        "          # classification\n",
        "          predictions = model.classify(log_prob)\n",
        "\n",
        "          # misclassified \n",
        "          missclassified = model.count_misclassified(predictions, y)\n",
        "          total_miss += missclassified\n",
        "\n",
        "          # loss\n",
        "          loss = model.compute_loss(log_prob, y, reduction = \"sum\")\n",
        "          total_loss += loss\n",
        "\n",
        "\n",
        "\n",
        "    # compute epoch statistics\n",
        "    avg_loss = total_loss / size\n",
        "    avg_ce = total_miss / size\n",
        "    \n",
        "    if mode == \"validation\":\n",
        "\n",
        "      \n",
        "      print('')\n",
        "      print('    Average validation loss: {:.5f}'.format(avg_loss))\n",
        "      print('    Average validation classification error: {:.5f}'.format(avg_ce))\n",
        "\n",
        "\n",
        "    else:\n",
        "\n",
        "  \n",
        "      print(\"\")\n",
        "      print(f\"TESTING => Results of over test set\")\n",
        "      print('')\n",
        "      print('    Average test loss: {:.5f}'.format(avg_loss))\n",
        "      print('    Average test classification error: {0:.5f}'.format(avg_ce))\n",
        "\n",
        "\n",
        "    return avg_loss.item(), avg_ce\n"
      ],
      "metadata": {
        "id": "r46tJKNsg8Po"
      },
      "execution_count": 144,
      "outputs": []
    },
    {
      "cell_type": "code",
      "source": [
        "def fit_epochs(training_loader, val_loader, test_loader, model, optimizer, n_epochs):\n",
        "\n",
        "  train_loss_list = []\n",
        "  train_ce_list = []\n",
        "  val_loss_list = []\n",
        "  val_ce_list = []\n",
        "  test_loss_result = []\n",
        "  test_ce_result = []\n",
        "\n",
        "  for i in range(0,n_epochs):\n",
        "\n",
        "    train_loss, train_ce =  train_one_epoch(dataloader = training_loader, model = model, optimizer = optimizer, epoch_n = i)\n",
        "    train_loss_list.append(train_loss)\n",
        "    train_ce_list.append(train_ce)\n",
        "\n",
        "    val_loss, val_ce = evaluation_one_epoch(dataloader = val_loader, model = model, optimizer = optimizer, epoch_n = i)\n",
        "    val_loss_list.append(val_loss)\n",
        "    val_ce_list.append(val_ce)\n",
        "\n",
        "  test_loss, test_ce = evaluation_one_epoch(dataloader = test_loader, model = model, optimizer = optimizer, mode = \"test\", epoch_n = i)\n",
        "  test_loss_result.append(test_loss)\n",
        "  test_ce_result.append(test_ce)\n",
        "\n",
        "\n",
        "  result_dic = {\"train_loss_list\": train_loss_list, \"train_ce_list\": train_ce_list,\"val_loss_list\":val_loss_list, \"val_ce_list\":val_ce_list, \"test_loss_result\":test_loss_result, \"test_ce_result\":test_ce_result, \"number_of_epochs\" : n_epochs}\n",
        "\n",
        "  return result_dic\n"
      ],
      "metadata": {
        "id": "cFWXfl4RlFgJ"
      },
      "execution_count": 151,
      "outputs": []
    },
    {
      "cell_type": "code",
      "source": [
        "def plot_results(results):\n",
        "    # Extracting the data from the dictionary\n",
        "    train_loss_list = results[\"train_loss_list\"]\n",
        "    train_ce_list = results[\"train_ce_list\"]\n",
        "    val_loss_list = results[\"val_loss_list\"]\n",
        "    val_ce_list = results[\"val_ce_list\"]\n",
        "    test_loss_result = results[\"test_loss_result\"]\n",
        "    test_ce_result = results[\"test_ce_result\"]\n",
        "    n_epochs = results[\"number_of_epochs\"]\n",
        "\n",
        "    # Plotting train loss\n",
        "    plt.plot(range(1, n_epochs + 1), train_loss_list, label=\"Train Loss\")\n",
        "\n",
        "    # Plotting train classification error\n",
        "    plt.plot(range(1, n_epochs + 1), train_ce_list, label=\"Train Classification Error\")\n",
        "\n",
        "    # Plotting validation loss\n",
        "    plt.plot(range(1, n_epochs + 1), val_loss_list, label=\"Validation Loss\")\n",
        "\n",
        "    # Plotting validation classification error\n",
        "    plt.plot(range(1, n_epochs + 1), val_ce_list, label=\"Validation Classification Error\")\n",
        "\n",
        "    # Plotting test loss\n",
        "    plt.plot(range(1, n_epochs + 1), [test_loss_result] * n_epochs, label=\"Test Loss\", linestyle=\"--\")\n",
        "\n",
        "    # Plotting test classification error\n",
        "    plt.plot(range(1, n_epochs + 1), [test_ce_result] * n_epochs, label=\"Test Classification Error\", linestyle=\"--\")\n",
        "\n",
        "    # Set plot labels and title\n",
        "    plt.xlabel(\"Epochs\")\n",
        "    plt.ylabel(\"Loss / Classification Error\")\n",
        "    plt.title(\"Training and Evaluation Results\")\n",
        "\n",
        "    # Add legend\n",
        "    plt.legend()\n",
        "\n",
        "    # Show the plot\n",
        "    plt.show()\n"
      ],
      "metadata": {
        "id": "wrHjlXj_o4Yo"
      },
      "execution_count": 158,
      "outputs": []
    },
    {
      "cell_type": "markdown",
      "source": [
        "### Inference "
      ],
      "metadata": {
        "id": "p6Mp6NDjB6f8"
      }
    },
    {
      "cell_type": "code",
      "source": [
        "# Initialize training, validation and test sets.\n",
        "train_data = TensorizedDigits(mode=\"train\")\n",
        "val_data = TensorizedDigits(mode=\"val\")\n",
        "test_data = TensorizedDigits(mode=\"test\")\n",
        "\n",
        "# Initialize data loaders.\n",
        "training_loader = DataLoader(train_data, batch_size=64, shuffle=True)\n",
        "val_loader = DataLoader(val_data, batch_size=64, shuffle=False)\n",
        "test_loader = DataLoader(test_data, batch_size=64, shuffle=False)"
      ],
      "metadata": {
        "id": "XGJo9-A8BiPs"
      },
      "execution_count": 153,
      "outputs": []
    },
    {
      "cell_type": "code",
      "source": [
        "cnn = MultiConfigCNN().to(\"cuda\")"
      ],
      "metadata": {
        "id": "AJN412WmNC8L"
      },
      "execution_count": 154,
      "outputs": []
    },
    {
      "cell_type": "code",
      "source": [
        "opt = configure_optimizer(cnn)"
      ],
      "metadata": {
        "id": "ZUB0oAZXV3O2"
      },
      "execution_count": 155,
      "outputs": []
    },
    {
      "cell_type": "code",
      "source": [
        "results = fit_epochs(training_loader, val_loader, test_loader, model = cnn, optimizer = opt, n_epochs = 20)"
      ],
      "metadata": {
        "colab": {
          "base_uri": "https://localhost:8080/"
        },
        "id": "EN1l30jVdatT",
        "outputId": "58386b02-61e9-40da-eb61-68b64e6ecbbf"
      },
      "execution_count": 156,
      "outputs": [
        {
          "output_type": "stream",
          "name": "stdout",
          "text": [
            "\n",
            " TRAINING => Results of epoch number 0:\n",
            "\n",
            "    Average training loss: 2.46446\n",
            "    Average training classification error: 0.88600\n",
            "\n",
            "    Average validation loss: 2.21944\n",
            "    Average validation classification error: 0.87429\n",
            "\n",
            " TRAINING => Results of epoch number 1:\n",
            "\n",
            "    Average training loss: 2.19231\n",
            "    Average training classification error: 0.87900\n",
            "\n",
            "    Average validation loss: 2.16890\n",
            "    Average validation classification error: 0.86857\n",
            "\n",
            " TRAINING => Results of epoch number 2:\n",
            "\n",
            "    Average training loss: 2.13413\n",
            "    Average training classification error: 0.85600\n",
            "\n",
            "    Average validation loss: 2.10295\n",
            "    Average validation classification error: 0.83714\n",
            "\n",
            " TRAINING => Results of epoch number 3:\n",
            "\n",
            "    Average training loss: 2.07219\n",
            "    Average training classification error: 0.80500\n",
            "\n",
            "    Average validation loss: 2.04231\n",
            "    Average validation classification error: 0.75429\n",
            "\n",
            " TRAINING => Results of epoch number 4:\n",
            "\n",
            "    Average training loss: 2.01279\n",
            "    Average training classification error: 0.71200\n",
            "\n",
            "    Average validation loss: 1.98213\n",
            "    Average validation classification error: 0.71714\n",
            "\n",
            " TRAINING => Results of epoch number 5:\n",
            "\n",
            "    Average training loss: 1.95790\n",
            "    Average training classification error: 0.65600\n",
            "\n",
            "    Average validation loss: 1.92581\n",
            "    Average validation classification error: 0.69714\n",
            "\n",
            " TRAINING => Results of epoch number 6:\n",
            "\n",
            "    Average training loss: 1.90103\n",
            "    Average training classification error: 0.63300\n",
            "\n",
            "    Average validation loss: 1.87029\n",
            "    Average validation classification error: 0.67714\n",
            "\n",
            " TRAINING => Results of epoch number 7:\n",
            "\n",
            "    Average training loss: 1.84447\n",
            "    Average training classification error: 0.63400\n",
            "\n",
            "    Average validation loss: 1.81579\n",
            "    Average validation classification error: 0.66000\n",
            "\n",
            " TRAINING => Results of epoch number 8:\n",
            "\n",
            "    Average training loss: 1.78572\n",
            "    Average training classification error: 0.62000\n",
            "\n",
            "    Average validation loss: 1.75721\n",
            "    Average validation classification error: 0.64571\n",
            "\n",
            " TRAINING => Results of epoch number 9:\n",
            "\n",
            "    Average training loss: 1.72400\n",
            "    Average training classification error: 0.61700\n",
            "\n",
            "    Average validation loss: 1.69600\n",
            "    Average validation classification error: 0.64286\n",
            "\n",
            " TRAINING => Results of epoch number 10:\n",
            "\n",
            "    Average training loss: 1.66406\n",
            "    Average training classification error: 0.60400\n",
            "\n",
            "    Average validation loss: 1.64509\n",
            "    Average validation classification error: 0.63143\n",
            "\n",
            " TRAINING => Results of epoch number 11:\n",
            "\n",
            "    Average training loss: 1.60599\n",
            "    Average training classification error: 0.58900\n",
            "\n",
            "    Average validation loss: 1.58365\n",
            "    Average validation classification error: 0.62286\n",
            "\n",
            " TRAINING => Results of epoch number 12:\n",
            "\n",
            "    Average training loss: 1.54768\n",
            "    Average training classification error: 0.58600\n",
            "\n",
            "    Average validation loss: 1.52924\n",
            "    Average validation classification error: 0.60000\n",
            "\n",
            " TRAINING => Results of epoch number 13:\n",
            "\n",
            "    Average training loss: 1.49110\n",
            "    Average training classification error: 0.55000\n",
            "\n",
            "    Average validation loss: 1.47056\n",
            "    Average validation classification error: 0.56000\n",
            "\n",
            " TRAINING => Results of epoch number 14:\n",
            "\n",
            "    Average training loss: 1.43342\n",
            "    Average training classification error: 0.52200\n",
            "\n",
            "    Average validation loss: 1.41515\n",
            "    Average validation classification error: 0.54000\n",
            "\n",
            " TRAINING => Results of epoch number 15:\n",
            "\n",
            "    Average training loss: 1.38013\n",
            "    Average training classification error: 0.47700\n",
            "\n",
            "    Average validation loss: 1.35702\n",
            "    Average validation classification error: 0.51429\n",
            "\n",
            " TRAINING => Results of epoch number 16:\n",
            "\n",
            "    Average training loss: 1.32670\n",
            "    Average training classification error: 0.45400\n",
            "\n",
            "    Average validation loss: 1.31079\n",
            "    Average validation classification error: 0.49429\n",
            "\n",
            " TRAINING => Results of epoch number 17:\n",
            "\n",
            "    Average training loss: 1.27717\n",
            "    Average training classification error: 0.43000\n",
            "\n",
            "    Average validation loss: 1.25975\n",
            "    Average validation classification error: 0.46286\n",
            "\n",
            " TRAINING => Results of epoch number 18:\n",
            "\n",
            "    Average training loss: 1.23212\n",
            "    Average training classification error: 0.41500\n",
            "\n",
            "    Average validation loss: 1.21533\n",
            "    Average validation classification error: 0.44857\n",
            "\n",
            " TRAINING => Results of epoch number 19:\n",
            "\n",
            "    Average training loss: 1.18305\n",
            "    Average training classification error: 0.38700\n",
            "\n",
            "    Average validation loss: 1.16835\n",
            "    Average validation classification error: 0.42286\n",
            "\n",
            "TESTING => Results of over test set\n",
            "\n",
            "    Average test loss: 1.32936\n",
            "    Average test classification error: 0.47204\n"
          ]
        }
      ]
    },
    {
      "cell_type": "code",
      "source": [
        "plot_results(results)"
      ],
      "metadata": {
        "colab": {
          "base_uri": "https://localhost:8080/",
          "height": 472
        },
        "id": "iEZnW3YPN1CC",
        "outputId": "a7c8d1ce-9386-420b-8c43-515efa763fe9"
      },
      "execution_count": 159,
      "outputs": [
        {
          "output_type": "display_data",
          "data": {
            "text/plain": [
              "<Figure size 640x480 with 1 Axes>"
            ],
            "image/png": "[encoded data removed]"
          },
          "metadata": {}
        }
      ]
    },
    {
      "cell_type": "code",
      "source": [],
      "metadata": {
        "id": "MJZPsTh5nRjZ"
      },
      "execution_count": 157,
      "outputs": []
    }
  ]
}